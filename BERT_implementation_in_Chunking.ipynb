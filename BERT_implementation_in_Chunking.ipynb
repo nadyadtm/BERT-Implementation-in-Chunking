{
  "nbformat": 4,
  "nbformat_minor": 0,
  "metadata": {
    "colab": {
      "name": "BERT implementation in Chunking.ipynb",
      "provenance": [],
      "collapsed_sections": [],
      "toc_visible": true,
      "authorship_tag": "ABX9TyOR+i7b3DKjedUhUHSphNzT",
      "include_colab_link": true
    },
    "kernelspec": {
      "name": "python3",
      "display_name": "Python 3"
    },
    "accelerator": "GPU",
    "widgets": {
      "application/vnd.jupyter.widget-state+json": {
        "22002836e0684c878d198d3e9bf87880": {
          "model_module": "@jupyter-widgets/controls",
          "model_name": "HBoxModel",
          "state": {
            "_view_name": "HBoxView",
            "_dom_classes": [],
            "_model_name": "HBoxModel",
            "_view_module": "@jupyter-widgets/controls",
            "_model_module_version": "1.5.0",
            "_view_count": null,
            "_view_module_version": "1.5.0",
            "box_style": "",
            "layout": "IPY_MODEL_19b9857ac50c47f7b6a48668dd335c92",
            "_model_module": "@jupyter-widgets/controls",
            "children": [
              "IPY_MODEL_1ff4e9552e3148168be4a41fbb9c5180",
              "IPY_MODEL_2ff32525fa3d47b6b037fa4d30020240"
            ]
          }
        },
        "19b9857ac50c47f7b6a48668dd335c92": {
          "model_module": "@jupyter-widgets/base",
          "model_name": "LayoutModel",
          "state": {
            "_view_name": "LayoutView",
            "grid_template_rows": null,
            "right": null,
            "justify_content": null,
            "_view_module": "@jupyter-widgets/base",
            "overflow": null,
            "_model_module_version": "1.2.0",
            "_view_count": null,
            "flex_flow": null,
            "width": null,
            "min_width": null,
            "border": null,
            "align_items": null,
            "bottom": null,
            "_model_module": "@jupyter-widgets/base",
            "top": null,
            "grid_column": null,
            "overflow_y": null,
            "overflow_x": null,
            "grid_auto_flow": null,
            "grid_area": null,
            "grid_template_columns": null,
            "flex": null,
            "_model_name": "LayoutModel",
            "justify_items": null,
            "grid_row": null,
            "max_height": null,
            "align_content": null,
            "visibility": null,
            "align_self": null,
            "height": null,
            "min_height": null,
            "padding": null,
            "grid_auto_rows": null,
            "grid_gap": null,
            "max_width": null,
            "order": null,
            "_view_module_version": "1.2.0",
            "grid_template_areas": null,
            "object_position": null,
            "object_fit": null,
            "grid_auto_columns": null,
            "margin": null,
            "display": null,
            "left": null
          }
        },
        "1ff4e9552e3148168be4a41fbb9c5180": {
          "model_module": "@jupyter-widgets/controls",
          "model_name": "FloatProgressModel",
          "state": {
            "_view_name": "ProgressView",
            "style": "IPY_MODEL_bf89fe077c274f338c96211e25ca3296",
            "_dom_classes": [],
            "description": "Downloading: 100%",
            "_model_name": "FloatProgressModel",
            "bar_style": "success",
            "max": 213450,
            "_view_module": "@jupyter-widgets/controls",
            "_model_module_version": "1.5.0",
            "value": 213450,
            "_view_count": null,
            "_view_module_version": "1.5.0",
            "orientation": "horizontal",
            "min": 0,
            "description_tooltip": null,
            "_model_module": "@jupyter-widgets/controls",
            "layout": "IPY_MODEL_82e5d6d7846e45f3b912f9aa5953abb9"
          }
        },
        "2ff32525fa3d47b6b037fa4d30020240": {
          "model_module": "@jupyter-widgets/controls",
          "model_name": "HTMLModel",
          "state": {
            "_view_name": "HTMLView",
            "style": "IPY_MODEL_abd0fb50e78147a5b78fa24e86108cae",
            "_dom_classes": [],
            "description": "",
            "_model_name": "HTMLModel",
            "placeholder": "​",
            "_view_module": "@jupyter-widgets/controls",
            "_model_module_version": "1.5.0",
            "value": " 213k/213k [00:00&lt;00:00, 3.26MB/s]",
            "_view_count": null,
            "_view_module_version": "1.5.0",
            "description_tooltip": null,
            "_model_module": "@jupyter-widgets/controls",
            "layout": "IPY_MODEL_7f087bdd46a54485a69a6a675e846943"
          }
        },
        "bf89fe077c274f338c96211e25ca3296": {
          "model_module": "@jupyter-widgets/controls",
          "model_name": "ProgressStyleModel",
          "state": {
            "_view_name": "StyleView",
            "_model_name": "ProgressStyleModel",
            "description_width": "initial",
            "_view_module": "@jupyter-widgets/base",
            "_model_module_version": "1.5.0",
            "_view_count": null,
            "_view_module_version": "1.2.0",
            "bar_color": null,
            "_model_module": "@jupyter-widgets/controls"
          }
        },
        "82e5d6d7846e45f3b912f9aa5953abb9": {
          "model_module": "@jupyter-widgets/base",
          "model_name": "LayoutModel",
          "state": {
            "_view_name": "LayoutView",
            "grid_template_rows": null,
            "right": null,
            "justify_content": null,
            "_view_module": "@jupyter-widgets/base",
            "overflow": null,
            "_model_module_version": "1.2.0",
            "_view_count": null,
            "flex_flow": null,
            "width": null,
            "min_width": null,
            "border": null,
            "align_items": null,
            "bottom": null,
            "_model_module": "@jupyter-widgets/base",
            "top": null,
            "grid_column": null,
            "overflow_y": null,
            "overflow_x": null,
            "grid_auto_flow": null,
            "grid_area": null,
            "grid_template_columns": null,
            "flex": null,
            "_model_name": "LayoutModel",
            "justify_items": null,
            "grid_row": null,
            "max_height": null,
            "align_content": null,
            "visibility": null,
            "align_self": null,
            "height": null,
            "min_height": null,
            "padding": null,
            "grid_auto_rows": null,
            "grid_gap": null,
            "max_width": null,
            "order": null,
            "_view_module_version": "1.2.0",
            "grid_template_areas": null,
            "object_position": null,
            "object_fit": null,
            "grid_auto_columns": null,
            "margin": null,
            "display": null,
            "left": null
          }
        },
        "abd0fb50e78147a5b78fa24e86108cae": {
          "model_module": "@jupyter-widgets/controls",
          "model_name": "DescriptionStyleModel",
          "state": {
            "_view_name": "StyleView",
            "_model_name": "DescriptionStyleModel",
            "description_width": "",
            "_view_module": "@jupyter-widgets/base",
            "_model_module_version": "1.5.0",
            "_view_count": null,
            "_view_module_version": "1.2.0",
            "_model_module": "@jupyter-widgets/controls"
          }
        },
        "7f087bdd46a54485a69a6a675e846943": {
          "model_module": "@jupyter-widgets/base",
          "model_name": "LayoutModel",
          "state": {
            "_view_name": "LayoutView",
            "grid_template_rows": null,
            "right": null,
            "justify_content": null,
            "_view_module": "@jupyter-widgets/base",
            "overflow": null,
            "_model_module_version": "1.2.0",
            "_view_count": null,
            "flex_flow": null,
            "width": null,
            "min_width": null,
            "border": null,
            "align_items": null,
            "bottom": null,
            "_model_module": "@jupyter-widgets/base",
            "top": null,
            "grid_column": null,
            "overflow_y": null,
            "overflow_x": null,
            "grid_auto_flow": null,
            "grid_area": null,
            "grid_template_columns": null,
            "flex": null,
            "_model_name": "LayoutModel",
            "justify_items": null,
            "grid_row": null,
            "max_height": null,
            "align_content": null,
            "visibility": null,
            "align_self": null,
            "height": null,
            "min_height": null,
            "padding": null,
            "grid_auto_rows": null,
            "grid_gap": null,
            "max_width": null,
            "order": null,
            "_view_module_version": "1.2.0",
            "grid_template_areas": null,
            "object_position": null,
            "object_fit": null,
            "grid_auto_columns": null,
            "margin": null,
            "display": null,
            "left": null
          }
        },
        "b7b63b1014db4805a82c6fb23be52632": {
          "model_module": "@jupyter-widgets/controls",
          "model_name": "HBoxModel",
          "state": {
            "_view_name": "HBoxView",
            "_dom_classes": [],
            "_model_name": "HBoxModel",
            "_view_module": "@jupyter-widgets/controls",
            "_model_module_version": "1.5.0",
            "_view_count": null,
            "_view_module_version": "1.5.0",
            "box_style": "",
            "layout": "IPY_MODEL_619bc3c0f9d14e47ad5cd15ed33bc142",
            "_model_module": "@jupyter-widgets/controls",
            "children": [
              "IPY_MODEL_d52b8e2102c04d3f9032e921a1743e5d",
              "IPY_MODEL_5eee2540de9f421da60f7b437f64c3ec"
            ]
          }
        },
        "619bc3c0f9d14e47ad5cd15ed33bc142": {
          "model_module": "@jupyter-widgets/base",
          "model_name": "LayoutModel",
          "state": {
            "_view_name": "LayoutView",
            "grid_template_rows": null,
            "right": null,
            "justify_content": null,
            "_view_module": "@jupyter-widgets/base",
            "overflow": null,
            "_model_module_version": "1.2.0",
            "_view_count": null,
            "flex_flow": null,
            "width": null,
            "min_width": null,
            "border": null,
            "align_items": null,
            "bottom": null,
            "_model_module": "@jupyter-widgets/base",
            "top": null,
            "grid_column": null,
            "overflow_y": null,
            "overflow_x": null,
            "grid_auto_flow": null,
            "grid_area": null,
            "grid_template_columns": null,
            "flex": null,
            "_model_name": "LayoutModel",
            "justify_items": null,
            "grid_row": null,
            "max_height": null,
            "align_content": null,
            "visibility": null,
            "align_self": null,
            "height": null,
            "min_height": null,
            "padding": null,
            "grid_auto_rows": null,
            "grid_gap": null,
            "max_width": null,
            "order": null,
            "_view_module_version": "1.2.0",
            "grid_template_areas": null,
            "object_position": null,
            "object_fit": null,
            "grid_auto_columns": null,
            "margin": null,
            "display": null,
            "left": null
          }
        },
        "d52b8e2102c04d3f9032e921a1743e5d": {
          "model_module": "@jupyter-widgets/controls",
          "model_name": "FloatProgressModel",
          "state": {
            "_view_name": "ProgressView",
            "style": "IPY_MODEL_5e927f16a4a044e5b1f1b03c5ca51ddf",
            "_dom_classes": [],
            "description": "Downloading: 100%",
            "_model_name": "FloatProgressModel",
            "bar_style": "success",
            "max": 411,
            "_view_module": "@jupyter-widgets/controls",
            "_model_module_version": "1.5.0",
            "value": 411,
            "_view_count": null,
            "_view_module_version": "1.5.0",
            "orientation": "horizontal",
            "min": 0,
            "description_tooltip": null,
            "_model_module": "@jupyter-widgets/controls",
            "layout": "IPY_MODEL_22ccd79b1167400e9c1289fdb417f408"
          }
        },
        "5eee2540de9f421da60f7b437f64c3ec": {
          "model_module": "@jupyter-widgets/controls",
          "model_name": "HTMLModel",
          "state": {
            "_view_name": "HTMLView",
            "style": "IPY_MODEL_32b61bf68ee943f5b9f80341b2c8e067",
            "_dom_classes": [],
            "description": "",
            "_model_name": "HTMLModel",
            "placeholder": "​",
            "_view_module": "@jupyter-widgets/controls",
            "_model_module_version": "1.5.0",
            "value": " 411/411 [00:00&lt;00:00, 2.41kB/s]",
            "_view_count": null,
            "_view_module_version": "1.5.0",
            "description_tooltip": null,
            "_model_module": "@jupyter-widgets/controls",
            "layout": "IPY_MODEL_6f5ea7a778c34ddfbcba87c766c41842"
          }
        },
        "5e927f16a4a044e5b1f1b03c5ca51ddf": {
          "model_module": "@jupyter-widgets/controls",
          "model_name": "ProgressStyleModel",
          "state": {
            "_view_name": "StyleView",
            "_model_name": "ProgressStyleModel",
            "description_width": "initial",
            "_view_module": "@jupyter-widgets/base",
            "_model_module_version": "1.5.0",
            "_view_count": null,
            "_view_module_version": "1.2.0",
            "bar_color": null,
            "_model_module": "@jupyter-widgets/controls"
          }
        },
        "22ccd79b1167400e9c1289fdb417f408": {
          "model_module": "@jupyter-widgets/base",
          "model_name": "LayoutModel",
          "state": {
            "_view_name": "LayoutView",
            "grid_template_rows": null,
            "right": null,
            "justify_content": null,
            "_view_module": "@jupyter-widgets/base",
            "overflow": null,
            "_model_module_version": "1.2.0",
            "_view_count": null,
            "flex_flow": null,
            "width": null,
            "min_width": null,
            "border": null,
            "align_items": null,
            "bottom": null,
            "_model_module": "@jupyter-widgets/base",
            "top": null,
            "grid_column": null,
            "overflow_y": null,
            "overflow_x": null,
            "grid_auto_flow": null,
            "grid_area": null,
            "grid_template_columns": null,
            "flex": null,
            "_model_name": "LayoutModel",
            "justify_items": null,
            "grid_row": null,
            "max_height": null,
            "align_content": null,
            "visibility": null,
            "align_self": null,
            "height": null,
            "min_height": null,
            "padding": null,
            "grid_auto_rows": null,
            "grid_gap": null,
            "max_width": null,
            "order": null,
            "_view_module_version": "1.2.0",
            "grid_template_areas": null,
            "object_position": null,
            "object_fit": null,
            "grid_auto_columns": null,
            "margin": null,
            "display": null,
            "left": null
          }
        },
        "32b61bf68ee943f5b9f80341b2c8e067": {
          "model_module": "@jupyter-widgets/controls",
          "model_name": "DescriptionStyleModel",
          "state": {
            "_view_name": "StyleView",
            "_model_name": "DescriptionStyleModel",
            "description_width": "",
            "_view_module": "@jupyter-widgets/base",
            "_model_module_version": "1.5.0",
            "_view_count": null,
            "_view_module_version": "1.2.0",
            "_model_module": "@jupyter-widgets/controls"
          }
        },
        "6f5ea7a778c34ddfbcba87c766c41842": {
          "model_module": "@jupyter-widgets/base",
          "model_name": "LayoutModel",
          "state": {
            "_view_name": "LayoutView",
            "grid_template_rows": null,
            "right": null,
            "justify_content": null,
            "_view_module": "@jupyter-widgets/base",
            "overflow": null,
            "_model_module_version": "1.2.0",
            "_view_count": null,
            "flex_flow": null,
            "width": null,
            "min_width": null,
            "border": null,
            "align_items": null,
            "bottom": null,
            "_model_module": "@jupyter-widgets/base",
            "top": null,
            "grid_column": null,
            "overflow_y": null,
            "overflow_x": null,
            "grid_auto_flow": null,
            "grid_area": null,
            "grid_template_columns": null,
            "flex": null,
            "_model_name": "LayoutModel",
            "justify_items": null,
            "grid_row": null,
            "max_height": null,
            "align_content": null,
            "visibility": null,
            "align_self": null,
            "height": null,
            "min_height": null,
            "padding": null,
            "grid_auto_rows": null,
            "grid_gap": null,
            "max_width": null,
            "order": null,
            "_view_module_version": "1.2.0",
            "grid_template_areas": null,
            "object_position": null,
            "object_fit": null,
            "grid_auto_columns": null,
            "margin": null,
            "display": null,
            "left": null
          }
        },
        "71f83e5a35ab42169fb1d8dcc4ca6781": {
          "model_module": "@jupyter-widgets/controls",
          "model_name": "HBoxModel",
          "state": {
            "_view_name": "HBoxView",
            "_dom_classes": [],
            "_model_name": "HBoxModel",
            "_view_module": "@jupyter-widgets/controls",
            "_model_module_version": "1.5.0",
            "_view_count": null,
            "_view_module_version": "1.5.0",
            "box_style": "",
            "layout": "IPY_MODEL_c5fdb933c4b34c1dbfcb42bfe61b61f0",
            "_model_module": "@jupyter-widgets/controls",
            "children": [
              "IPY_MODEL_23ae224ff6d34efcad8538badbb26577",
              "IPY_MODEL_4c35bbdf2b1e47aebab420eb67db6ac1"
            ]
          }
        },
        "c5fdb933c4b34c1dbfcb42bfe61b61f0": {
          "model_module": "@jupyter-widgets/base",
          "model_name": "LayoutModel",
          "state": {
            "_view_name": "LayoutView",
            "grid_template_rows": null,
            "right": null,
            "justify_content": null,
            "_view_module": "@jupyter-widgets/base",
            "overflow": null,
            "_model_module_version": "1.2.0",
            "_view_count": null,
            "flex_flow": null,
            "width": null,
            "min_width": null,
            "border": null,
            "align_items": null,
            "bottom": null,
            "_model_module": "@jupyter-widgets/base",
            "top": null,
            "grid_column": null,
            "overflow_y": null,
            "overflow_x": null,
            "grid_auto_flow": null,
            "grid_area": null,
            "grid_template_columns": null,
            "flex": null,
            "_model_name": "LayoutModel",
            "justify_items": null,
            "grid_row": null,
            "max_height": null,
            "align_content": null,
            "visibility": null,
            "align_self": null,
            "height": null,
            "min_height": null,
            "padding": null,
            "grid_auto_rows": null,
            "grid_gap": null,
            "max_width": null,
            "order": null,
            "_view_module_version": "1.2.0",
            "grid_template_areas": null,
            "object_position": null,
            "object_fit": null,
            "grid_auto_columns": null,
            "margin": null,
            "display": null,
            "left": null
          }
        },
        "23ae224ff6d34efcad8538badbb26577": {
          "model_module": "@jupyter-widgets/controls",
          "model_name": "FloatProgressModel",
          "state": {
            "_view_name": "ProgressView",
            "style": "IPY_MODEL_c7e76eec19c245c3ae44839c990175c8",
            "_dom_classes": [],
            "description": "Downloading: 100%",
            "_model_name": "FloatProgressModel",
            "bar_style": "success",
            "max": 263273408,
            "_view_module": "@jupyter-widgets/controls",
            "_model_module_version": "1.5.0",
            "value": 263273408,
            "_view_count": null,
            "_view_module_version": "1.5.0",
            "orientation": "horizontal",
            "min": 0,
            "description_tooltip": null,
            "_model_module": "@jupyter-widgets/controls",
            "layout": "IPY_MODEL_9fef83e3ec7f4d96aa2c36a6913d3520"
          }
        },
        "4c35bbdf2b1e47aebab420eb67db6ac1": {
          "model_module": "@jupyter-widgets/controls",
          "model_name": "HTMLModel",
          "state": {
            "_view_name": "HTMLView",
            "style": "IPY_MODEL_4fad0eb0ab9c4dffa896e6586cd8e06c",
            "_dom_classes": [],
            "description": "",
            "_model_name": "HTMLModel",
            "placeholder": "​",
            "_view_module": "@jupyter-widgets/controls",
            "_model_module_version": "1.5.0",
            "value": " 263M/263M [00:24&lt;00:00, 10.7MB/s]",
            "_view_count": null,
            "_view_module_version": "1.5.0",
            "description_tooltip": null,
            "_model_module": "@jupyter-widgets/controls",
            "layout": "IPY_MODEL_8c17cad19dff44dba830181aef7f7eb3"
          }
        },
        "c7e76eec19c245c3ae44839c990175c8": {
          "model_module": "@jupyter-widgets/controls",
          "model_name": "ProgressStyleModel",
          "state": {
            "_view_name": "StyleView",
            "_model_name": "ProgressStyleModel",
            "description_width": "initial",
            "_view_module": "@jupyter-widgets/base",
            "_model_module_version": "1.5.0",
            "_view_count": null,
            "_view_module_version": "1.2.0",
            "bar_color": null,
            "_model_module": "@jupyter-widgets/controls"
          }
        },
        "9fef83e3ec7f4d96aa2c36a6913d3520": {
          "model_module": "@jupyter-widgets/base",
          "model_name": "LayoutModel",
          "state": {
            "_view_name": "LayoutView",
            "grid_template_rows": null,
            "right": null,
            "justify_content": null,
            "_view_module": "@jupyter-widgets/base",
            "overflow": null,
            "_model_module_version": "1.2.0",
            "_view_count": null,
            "flex_flow": null,
            "width": null,
            "min_width": null,
            "border": null,
            "align_items": null,
            "bottom": null,
            "_model_module": "@jupyter-widgets/base",
            "top": null,
            "grid_column": null,
            "overflow_y": null,
            "overflow_x": null,
            "grid_auto_flow": null,
            "grid_area": null,
            "grid_template_columns": null,
            "flex": null,
            "_model_name": "LayoutModel",
            "justify_items": null,
            "grid_row": null,
            "max_height": null,
            "align_content": null,
            "visibility": null,
            "align_self": null,
            "height": null,
            "min_height": null,
            "padding": null,
            "grid_auto_rows": null,
            "grid_gap": null,
            "max_width": null,
            "order": null,
            "_view_module_version": "1.2.0",
            "grid_template_areas": null,
            "object_position": null,
            "object_fit": null,
            "grid_auto_columns": null,
            "margin": null,
            "display": null,
            "left": null
          }
        },
        "4fad0eb0ab9c4dffa896e6586cd8e06c": {
          "model_module": "@jupyter-widgets/controls",
          "model_name": "DescriptionStyleModel",
          "state": {
            "_view_name": "StyleView",
            "_model_name": "DescriptionStyleModel",
            "description_width": "",
            "_view_module": "@jupyter-widgets/base",
            "_model_module_version": "1.5.0",
            "_view_count": null,
            "_view_module_version": "1.2.0",
            "_model_module": "@jupyter-widgets/controls"
          }
        },
        "8c17cad19dff44dba830181aef7f7eb3": {
          "model_module": "@jupyter-widgets/base",
          "model_name": "LayoutModel",
          "state": {
            "_view_name": "LayoutView",
            "grid_template_rows": null,
            "right": null,
            "justify_content": null,
            "_view_module": "@jupyter-widgets/base",
            "overflow": null,
            "_model_module_version": "1.2.0",
            "_view_count": null,
            "flex_flow": null,
            "width": null,
            "min_width": null,
            "border": null,
            "align_items": null,
            "bottom": null,
            "_model_module": "@jupyter-widgets/base",
            "top": null,
            "grid_column": null,
            "overflow_y": null,
            "overflow_x": null,
            "grid_auto_flow": null,
            "grid_area": null,
            "grid_template_columns": null,
            "flex": null,
            "_model_name": "LayoutModel",
            "justify_items": null,
            "grid_row": null,
            "max_height": null,
            "align_content": null,
            "visibility": null,
            "align_self": null,
            "height": null,
            "min_height": null,
            "padding": null,
            "grid_auto_rows": null,
            "grid_gap": null,
            "max_width": null,
            "order": null,
            "_view_module_version": "1.2.0",
            "grid_template_areas": null,
            "object_position": null,
            "object_fit": null,
            "grid_auto_columns": null,
            "margin": null,
            "display": null,
            "left": null
          }
        }
      }
    }
  },
  "cells": [
    {
      "cell_type": "markdown",
      "metadata": {
        "id": "view-in-github",
        "colab_type": "text"
      },
      "source": [
        "<a href=\"https://colab.research.google.com/github/nadyadtm/BERT-Implementation-in-Chunking/blob/main/BERT_implementation_in_Chunking.ipynb\" target=\"_parent\"><img src=\"https://colab.research.google.com/assets/colab-badge.svg\" alt=\"Open In Colab\"/></a>"
      ]
    },
    {
      "cell_type": "markdown",
      "metadata": {
        "id": "9B9vkPE8wCbB"
      },
      "source": [
        "# BERT implementation in Chunking\r\n",
        "\r\n",
        "Chunking merupakan \r\n"
      ]
    },
    {
      "cell_type": "markdown",
      "metadata": {
        "id": "FzgC6zWPwHev"
      },
      "source": [
        "## Mount Google Drive"
      ]
    },
    {
      "cell_type": "code",
      "metadata": {
        "colab": {
          "base_uri": "https://localhost:8080/"
        },
        "id": "SZuRmoCW1vyv",
        "outputId": "ae6dd525-06df-4c24-af9b-9fd2ae40dd81"
      },
      "source": [
        "# mount google drive\r\n",
        "from google.colab import drive\r\n",
        "drive.mount('/content/drive')"
      ],
      "execution_count": 1,
      "outputs": [
        {
          "output_type": "stream",
          "text": [
            "Mounted at /content/drive\n"
          ],
          "name": "stdout"
        }
      ]
    },
    {
      "cell_type": "markdown",
      "metadata": {
        "id": "vBKHZxCVCrl2"
      },
      "source": [
        "## Import Package"
      ]
    },
    {
      "cell_type": "code",
      "metadata": {
        "colab": {
          "base_uri": "https://localhost:8080/"
        },
        "id": "uiFVlKIHCuoc",
        "outputId": "45baf7e4-77c4-40e5-822a-6a73a0e41552"
      },
      "source": [
        "#install package transformes dan lakukan import\r\n",
        "!pip install transformers==3\r\n",
        "import transformers\r\n",
        "from transformers import DistilBertModel, DistilBertTokenizer, AdamW, get_linear_schedule_with_warmup\r\n",
        "\r\n",
        "#import package pytorch\r\n",
        "import torch\r\n",
        "from torch import nn, optim\r\n",
        "from torch.utils.data import Dataset, DataLoader,TensorDataset\r\n",
        "from tqdm import tqdm, trange\r\n",
        "\r\n",
        "\r\n",
        "#import package sklearn\r\n",
        "from sklearn.model_selection import train_test_split\r\n",
        "from sklearn.metrics import confusion_matrix, classification_report\r\n",
        "\r\n",
        "#import numpy, pandas\r\n",
        "import numpy as np\r\n",
        "import pandas as pd\r\n",
        "\r\n",
        "import seaborn as sns\r\n",
        "from pylab import rcParams\r\n",
        "import matplotlib.pyplot as plt\r\n",
        "from matplotlib import rc\r\n",
        "from collections import defaultdict\r\n",
        "from textwrap import wrap\r\n",
        "\r\n",
        "#import os\r\n",
        "import os\r\n",
        "os.environ['CUDA_LAUNCH_BLOCKING'] = \"1\"\r\n",
        "\r\n",
        "RANDOM_SEED = 42\r\n",
        "np.random.seed(RANDOM_SEED)\r\n",
        "torch.manual_seed(RANDOM_SEED)"
      ],
      "execution_count": 2,
      "outputs": [
        {
          "output_type": "stream",
          "text": [
            "Collecting transformers==3\n",
            "\u001b[?25l  Downloading https://files.pythonhosted.org/packages/9c/35/1c3f6e62d81f5f0daff1384e6d5e6c5758682a8357ebc765ece2b9def62b/transformers-3.0.0-py3-none-any.whl (754kB)\n",
            "\r\u001b[K     |▍                               | 10kB 21.0MB/s eta 0:00:01\r\u001b[K     |▉                               | 20kB 27.1MB/s eta 0:00:01\r\u001b[K     |█▎                              | 30kB 23.5MB/s eta 0:00:01\r\u001b[K     |█▊                              | 40kB 27.3MB/s eta 0:00:01\r\u001b[K     |██▏                             | 51kB 27.8MB/s eta 0:00:01\r\u001b[K     |██▋                             | 61kB 30.6MB/s eta 0:00:01\r\u001b[K     |███                             | 71kB 20.4MB/s eta 0:00:01\r\u001b[K     |███▌                            | 81kB 21.4MB/s eta 0:00:01\r\u001b[K     |████                            | 92kB 20.0MB/s eta 0:00:01\r\u001b[K     |████▍                           | 102kB 20.1MB/s eta 0:00:01\r\u001b[K     |████▊                           | 112kB 20.1MB/s eta 0:00:01\r\u001b[K     |█████▏                          | 122kB 20.1MB/s eta 0:00:01\r\u001b[K     |█████▋                          | 133kB 20.1MB/s eta 0:00:01\r\u001b[K     |██████                          | 143kB 20.1MB/s eta 0:00:01\r\u001b[K     |██████▌                         | 153kB 20.1MB/s eta 0:00:01\r\u001b[K     |███████                         | 163kB 20.1MB/s eta 0:00:01\r\u001b[K     |███████▍                        | 174kB 20.1MB/s eta 0:00:01\r\u001b[K     |███████▉                        | 184kB 20.1MB/s eta 0:00:01\r\u001b[K     |████████▎                       | 194kB 20.1MB/s eta 0:00:01\r\u001b[K     |████████▊                       | 204kB 20.1MB/s eta 0:00:01\r\u001b[K     |█████████▏                      | 215kB 20.1MB/s eta 0:00:01\r\u001b[K     |█████████▌                      | 225kB 20.1MB/s eta 0:00:01\r\u001b[K     |██████████                      | 235kB 20.1MB/s eta 0:00:01\r\u001b[K     |██████████▍                     | 245kB 20.1MB/s eta 0:00:01\r\u001b[K     |██████████▉                     | 256kB 20.1MB/s eta 0:00:01\r\u001b[K     |███████████▎                    | 266kB 20.1MB/s eta 0:00:01\r\u001b[K     |███████████▊                    | 276kB 20.1MB/s eta 0:00:01\r\u001b[K     |████████████▏                   | 286kB 20.1MB/s eta 0:00:01\r\u001b[K     |████████████▋                   | 296kB 20.1MB/s eta 0:00:01\r\u001b[K     |█████████████                   | 307kB 20.1MB/s eta 0:00:01\r\u001b[K     |█████████████▌                  | 317kB 20.1MB/s eta 0:00:01\r\u001b[K     |██████████████                  | 327kB 20.1MB/s eta 0:00:01\r\u001b[K     |██████████████▎                 | 337kB 20.1MB/s eta 0:00:01\r\u001b[K     |██████████████▊                 | 348kB 20.1MB/s eta 0:00:01\r\u001b[K     |███████████████▏                | 358kB 20.1MB/s eta 0:00:01\r\u001b[K     |███████████████▋                | 368kB 20.1MB/s eta 0:00:01\r\u001b[K     |████████████████                | 378kB 20.1MB/s eta 0:00:01\r\u001b[K     |████████████████▌               | 389kB 20.1MB/s eta 0:00:01\r\u001b[K     |█████████████████               | 399kB 20.1MB/s eta 0:00:01\r\u001b[K     |█████████████████▍              | 409kB 20.1MB/s eta 0:00:01\r\u001b[K     |█████████████████▉              | 419kB 20.1MB/s eta 0:00:01\r\u001b[K     |██████████████████▎             | 430kB 20.1MB/s eta 0:00:01\r\u001b[K     |██████████████████▊             | 440kB 20.1MB/s eta 0:00:01\r\u001b[K     |███████████████████             | 450kB 20.1MB/s eta 0:00:01\r\u001b[K     |███████████████████▌            | 460kB 20.1MB/s eta 0:00:01\r\u001b[K     |████████████████████            | 471kB 20.1MB/s eta 0:00:01\r\u001b[K     |████████████████████▍           | 481kB 20.1MB/s eta 0:00:01\r\u001b[K     |████████████████████▉           | 491kB 20.1MB/s eta 0:00:01\r\u001b[K     |█████████████████████▎          | 501kB 20.1MB/s eta 0:00:01\r\u001b[K     |█████████████████████▊          | 512kB 20.1MB/s eta 0:00:01\r\u001b[K     |██████████████████████▏         | 522kB 20.1MB/s eta 0:00:01\r\u001b[K     |██████████████████████▋         | 532kB 20.1MB/s eta 0:00:01\r\u001b[K     |███████████████████████         | 542kB 20.1MB/s eta 0:00:01\r\u001b[K     |███████████████████████▌        | 552kB 20.1MB/s eta 0:00:01\r\u001b[K     |███████████████████████▉        | 563kB 20.1MB/s eta 0:00:01\r\u001b[K     |████████████████████████▎       | 573kB 20.1MB/s eta 0:00:01\r\u001b[K     |████████████████████████▊       | 583kB 20.1MB/s eta 0:00:01\r\u001b[K     |█████████████████████████▏      | 593kB 20.1MB/s eta 0:00:01\r\u001b[K     |█████████████████████████▋      | 604kB 20.1MB/s eta 0:00:01\r\u001b[K     |██████████████████████████      | 614kB 20.1MB/s eta 0:00:01\r\u001b[K     |██████████████████████████▌     | 624kB 20.1MB/s eta 0:00:01\r\u001b[K     |███████████████████████████     | 634kB 20.1MB/s eta 0:00:01\r\u001b[K     |███████████████████████████▍    | 645kB 20.1MB/s eta 0:00:01\r\u001b[K     |███████████████████████████▉    | 655kB 20.1MB/s eta 0:00:01\r\u001b[K     |████████████████████████████▎   | 665kB 20.1MB/s eta 0:00:01\r\u001b[K     |████████████████████████████▋   | 675kB 20.1MB/s eta 0:00:01\r\u001b[K     |█████████████████████████████   | 686kB 20.1MB/s eta 0:00:01\r\u001b[K     |█████████████████████████████▌  | 696kB 20.1MB/s eta 0:00:01\r\u001b[K     |██████████████████████████████  | 706kB 20.1MB/s eta 0:00:01\r\u001b[K     |██████████████████████████████▍ | 716kB 20.1MB/s eta 0:00:01\r\u001b[K     |██████████████████████████████▉ | 727kB 20.1MB/s eta 0:00:01\r\u001b[K     |███████████████████████████████▎| 737kB 20.1MB/s eta 0:00:01\r\u001b[K     |███████████████████████████████▊| 747kB 20.1MB/s eta 0:00:01\r\u001b[K     |████████████████████████████████| 757kB 20.1MB/s \n",
            "\u001b[?25hRequirement already satisfied: filelock in /usr/local/lib/python3.7/dist-packages (from transformers==3) (3.0.12)\n",
            "Requirement already satisfied: packaging in /usr/local/lib/python3.7/dist-packages (from transformers==3) (20.9)\n",
            "Collecting tokenizers==0.8.0-rc4\n",
            "\u001b[?25l  Downloading https://files.pythonhosted.org/packages/f7/82/0e82a95bd9db2b32569500cc1bb47aa7c4e0f57aa5e35cceba414096917b/tokenizers-0.8.0rc4-cp37-cp37m-manylinux1_x86_64.whl (3.0MB)\n",
            "\u001b[K     |████████████████████████████████| 3.0MB 53.1MB/s \n",
            "\u001b[?25hCollecting sacremoses\n",
            "\u001b[?25l  Downloading https://files.pythonhosted.org/packages/7d/34/09d19aff26edcc8eb2a01bed8e98f13a1537005d31e95233fd48216eed10/sacremoses-0.0.43.tar.gz (883kB)\n",
            "\u001b[K     |████████████████████████████████| 890kB 40.6MB/s \n",
            "\u001b[?25hCollecting sentencepiece\n",
            "\u001b[?25l  Downloading https://files.pythonhosted.org/packages/f5/99/e0808cb947ba10f575839c43e8fafc9cc44e4a7a2c8f79c60db48220a577/sentencepiece-0.1.95-cp37-cp37m-manylinux2014_x86_64.whl (1.2MB)\n",
            "\u001b[K     |████████████████████████████████| 1.2MB 43.1MB/s \n",
            "\u001b[?25hRequirement already satisfied: requests in /usr/local/lib/python3.7/dist-packages (from transformers==3) (2.23.0)\n",
            "Requirement already satisfied: tqdm>=4.27 in /usr/local/lib/python3.7/dist-packages (from transformers==3) (4.41.1)\n",
            "Requirement already satisfied: numpy in /usr/local/lib/python3.7/dist-packages (from transformers==3) (1.19.5)\n",
            "Requirement already satisfied: regex!=2019.12.17 in /usr/local/lib/python3.7/dist-packages (from transformers==3) (2019.12.20)\n",
            "Requirement already satisfied: pyparsing>=2.0.2 in /usr/local/lib/python3.7/dist-packages (from packaging->transformers==3) (2.4.7)\n",
            "Requirement already satisfied: six in /usr/local/lib/python3.7/dist-packages (from sacremoses->transformers==3) (1.15.0)\n",
            "Requirement already satisfied: click in /usr/local/lib/python3.7/dist-packages (from sacremoses->transformers==3) (7.1.2)\n",
            "Requirement already satisfied: joblib in /usr/local/lib/python3.7/dist-packages (from sacremoses->transformers==3) (1.0.1)\n",
            "Requirement already satisfied: chardet<4,>=3.0.2 in /usr/local/lib/python3.7/dist-packages (from requests->transformers==3) (3.0.4)\n",
            "Requirement already satisfied: certifi>=2017.4.17 in /usr/local/lib/python3.7/dist-packages (from requests->transformers==3) (2020.12.5)\n",
            "Requirement already satisfied: idna<3,>=2.5 in /usr/local/lib/python3.7/dist-packages (from requests->transformers==3) (2.10)\n",
            "Requirement already satisfied: urllib3!=1.25.0,!=1.25.1,<1.26,>=1.21.1 in /usr/local/lib/python3.7/dist-packages (from requests->transformers==3) (1.24.3)\n",
            "Building wheels for collected packages: sacremoses\n",
            "  Building wheel for sacremoses (setup.py) ... \u001b[?25l\u001b[?25hdone\n",
            "  Created wheel for sacremoses: filename=sacremoses-0.0.43-cp37-none-any.whl size=893262 sha256=27a57c5be98a23a3eeada40c3fdf8b50cf52f2b41a8eaffcb1205a6fd1f84373\n",
            "  Stored in directory: /root/.cache/pip/wheels/29/3c/fd/7ce5c3f0666dab31a50123635e6fb5e19ceb42ce38d4e58f45\n",
            "Successfully built sacremoses\n",
            "Installing collected packages: tokenizers, sacremoses, sentencepiece, transformers\n",
            "Successfully installed sacremoses-0.0.43 sentencepiece-0.1.95 tokenizers-0.8.0rc4 transformers-3.0.0\n"
          ],
          "name": "stdout"
        },
        {
          "output_type": "execute_result",
          "data": {
            "text/plain": [
              "<torch._C.Generator at 0x7fb5342022b0>"
            ]
          },
          "metadata": {
            "tags": []
          },
          "execution_count": 2
        }
      ]
    },
    {
      "cell_type": "markdown",
      "metadata": {
        "id": "JHD_07WS6SW3"
      },
      "source": [
        "##Set GPU\r\n",
        "Sebelum memulai pelatihan, diperlukan untuk set GPU untuk menjalankan Pytorch"
      ]
    },
    {
      "cell_type": "code",
      "metadata": {
        "colab": {
          "base_uri": "https://localhost:8080/"
        },
        "id": "5FyHj5iP-ycS",
        "outputId": "6c0da315-1d13-42d8-9242-46367def18f7"
      },
      "source": [
        "#mengecek apakah terdapat GPU pada komputer\r\n",
        "if torch.cuda.is_available():       \r\n",
        "    device = torch.device(\"cuda\")\r\n",
        "    print(f'There are {torch.cuda.device_count()} GPU(s) available.')\r\n",
        "    print('Device name:', torch.cuda.get_device_name(0))\r\n",
        "#jika tidak ada maka gunakan CPU untuk menjalankan program\r\n",
        "else:\r\n",
        "    print('No GPU available, using the CPU instead.')\r\n",
        "    device = torch.device(\"cpu\")"
      ],
      "execution_count": 3,
      "outputs": [
        {
          "output_type": "stream",
          "text": [
            "There are 1 GPU(s) available.\n",
            "Device name: Tesla T4\n"
          ],
          "name": "stdout"
        }
      ]
    },
    {
      "cell_type": "markdown",
      "metadata": {
        "id": "nuqvYIWjwK3D"
      },
      "source": [
        "## Load File txt"
      ]
    },
    {
      "cell_type": "code",
      "metadata": {
        "id": "1OfU8wEa6wQ3"
      },
      "source": [
        "DATA_DIR = 'drive/My Drive/SMT 2/NLP/Tugas 3/Chunking/{}.txt'\r\n",
        "\r\n",
        "def get_data(file):\r\n",
        "    with open(file, 'r', encoding='latin1') as fp:\r\n",
        "        content = fp.readlines()\r\n",
        "    data, sent = [], []\r\n",
        "    for line in content:\r\n",
        "        if not line.strip():\r\n",
        "            if sent: data.append(sent)\r\n",
        "            sent = []\r\n",
        "        else:\r\n",
        "            word, pos, tag = line.strip().split()\r\n",
        "            # tag = tag.split('-')[0]\r\n",
        "            sent.append((word, pos, tag))\r\n",
        "    return data"
      ],
      "execution_count": 4,
      "outputs": []
    },
    {
      "cell_type": "code",
      "metadata": {
        "id": "dRfKj7V42oFk"
      },
      "source": [
        "train_data = get_data(DATA_DIR.format('train'))\r\n",
        "test_data = get_data(DATA_DIR.format('test'))"
      ],
      "execution_count": 5,
      "outputs": []
    },
    {
      "cell_type": "markdown",
      "metadata": {
        "id": "iFjvMU-Awlny"
      },
      "source": [
        "Kemudian, mengambil sentence dan labelnya. Di kasus ini kita mengabaikan POSnya"
      ]
    },
    {
      "cell_type": "code",
      "metadata": {
        "id": "kzlEkeYNCg31"
      },
      "source": [
        "sentences = [[word[0] for word in sentence] for sentence in train_data]\r\n",
        "sentences_test = [[word[0] for word in sentence] for sentence in test_data]"
      ],
      "execution_count": 6,
      "outputs": []
    },
    {
      "cell_type": "code",
      "metadata": {
        "id": "rCN10TwZj89u"
      },
      "source": [
        "labels = [[s[2] for s in sentence] for sentence in train_data]\r\n",
        "labels_test = [[s[2] for s in sentence] for sentence in test_data]"
      ],
      "execution_count": 7,
      "outputs": []
    },
    {
      "cell_type": "markdown",
      "metadata": {
        "id": "p8nw8He5xHOn"
      },
      "source": [
        "Berikut ini adalah tag yang ada pada dataset tersebut"
      ]
    },
    {
      "cell_type": "code",
      "metadata": {
        "id": "VPo9IsHZKNes",
        "colab": {
          "base_uri": "https://localhost:8080/"
        },
        "outputId": "8996dc30-1488-4667-b559-842e7cf31b8b"
      },
      "source": [
        "data1 = pd.read_csv(\"drive/My Drive/SMT 2/NLP/Tugas 3/Chunking/train.txt\", \r\n",
        "                  sep=' ', \r\n",
        "                  names=[\"Words\", \"POS\", \"Tag\"])\r\n",
        "data2 = pd.read_csv(\"drive/My Drive/SMT 2/NLP/Tugas 3/Chunking/test.txt\", \r\n",
        "                  sep=' ', \r\n",
        "                  names=[\"Words\", \"POS\", \"Tag\"])\r\n",
        "data = pd.concat([data1,data2])\r\n",
        "tag_values = list(set(data[\"Tag\"].values))\r\n",
        "tag_values.append(\"PAD\")\r\n",
        "tag2idx = {t: i for i, t in enumerate(tag_values)}\r\n",
        "tag2idx"
      ],
      "execution_count": 8,
      "outputs": [
        {
          "output_type": "execute_result",
          "data": {
            "text/plain": [
              "{'B-ADJP': 21,\n",
              " 'B-ADVP': 12,\n",
              " 'B-CONJP': 6,\n",
              " 'B-INTJ': 13,\n",
              " 'B-LST': 7,\n",
              " 'B-NP': 2,\n",
              " 'B-PP': 10,\n",
              " 'B-PRT': 22,\n",
              " 'B-SBAR': 11,\n",
              " 'B-UCP': 8,\n",
              " 'B-VP': 15,\n",
              " 'I-ADJP': 19,\n",
              " 'I-ADVP': 20,\n",
              " 'I-CONJP': 14,\n",
              " 'I-INTJ': 16,\n",
              " 'I-LST': 17,\n",
              " 'I-NP': 5,\n",
              " 'I-PP': 4,\n",
              " 'I-PRT': 0,\n",
              " 'I-SBAR': 3,\n",
              " 'I-UCP': 18,\n",
              " 'I-VP': 1,\n",
              " 'O': 9,\n",
              " 'PAD': 23}"
            ]
          },
          "metadata": {
            "tags": []
          },
          "execution_count": 8
        }
      ]
    },
    {
      "cell_type": "markdown",
      "metadata": {
        "id": "ugA89kmeLxZd"
      },
      "source": [
        "## Preprocessing\r\n",
        "Inisiasi Tokenizer, max len, dan batch size di awal. Pada kasus ini, model yang digunakan DistilBert"
      ]
    },
    {
      "cell_type": "code",
      "metadata": {
        "id": "nPsvBRhVLQVJ",
        "colab": {
          "base_uri": "https://localhost:8080/",
          "height": 68,
          "referenced_widgets": [
            "22002836e0684c878d198d3e9bf87880",
            "19b9857ac50c47f7b6a48668dd335c92",
            "1ff4e9552e3148168be4a41fbb9c5180",
            "2ff32525fa3d47b6b037fa4d30020240",
            "bf89fe077c274f338c96211e25ca3296",
            "82e5d6d7846e45f3b912f9aa5953abb9",
            "abd0fb50e78147a5b78fa24e86108cae",
            "7f087bdd46a54485a69a6a675e846943"
          ]
        },
        "outputId": "67a652d9-a075-4fea-9253-5e12ea9ada22"
      },
      "source": [
        "PRE_TRAINED_MODEL_NAME = 'distilbert-base-cased'\r\n",
        "MAX_LEN = 30\r\n",
        "bs = 32\r\n",
        "\r\n",
        "tokenizer = DistilBertTokenizer.from_pretrained(PRE_TRAINED_MODEL_NAME, do_lower_case=False)"
      ],
      "execution_count": 9,
      "outputs": [
        {
          "output_type": "display_data",
          "data": {
            "application/vnd.jupyter.widget-view+json": {
              "model_id": "22002836e0684c878d198d3e9bf87880",
              "version_minor": 0,
              "version_major": 2
            },
            "text/plain": [
              "HBox(children=(FloatProgress(value=0.0, description='Downloading', max=213450.0, style=ProgressStyle(descripti…"
            ]
          },
          "metadata": {
            "tags": []
          }
        },
        {
          "output_type": "stream",
          "text": [
            "\n"
          ],
          "name": "stdout"
        }
      ]
    },
    {
      "cell_type": "markdown",
      "metadata": {
        "id": "KJuoQZ3Yxe7O"
      },
      "source": [
        "Fungsi tersebut untuk melakukan tokenisasi per kata"
      ]
    },
    {
      "cell_type": "code",
      "metadata": {
        "id": "H4RV5Ih5lYen"
      },
      "source": [
        "def tokenize_and_preserve_labels(sentence, text_labels):\r\n",
        "    tokenized_sentence = []\r\n",
        "    labels = []\r\n",
        "\r\n",
        "    for word, label in zip(sentence, text_labels):\r\n",
        "\r\n",
        "        # Tokenize the word and count # of subwords the word is broken into\r\n",
        "        tokenized_word = tokenizer.tokenize(word)\r\n",
        "        n_subwords = len(tokenized_word)\r\n",
        "\r\n",
        "        # Add the tokenized word to the final tokenized word list\r\n",
        "        tokenized_sentence.extend(tokenized_word)\r\n",
        "\r\n",
        "        # Add the same label to the new list of labels `n_subwords` times\r\n",
        "        labels.extend([label] * n_subwords)\r\n",
        "\r\n",
        "    return tokenized_sentence, labels"
      ],
      "execution_count": 10,
      "outputs": []
    },
    {
      "cell_type": "code",
      "metadata": {
        "id": "V2N7L0_vldiO"
      },
      "source": [
        "def tokenized(sentences,labels):\r\n",
        "    tokenized_texts_and_labels = [\r\n",
        "      tokenize_and_preserve_labels(sent, labs)\r\n",
        "      for sent, labs in zip(sentences, labels)\r\n",
        "    ]\r\n",
        "    tokenized_texts = [token_label_pair[0] for token_label_pair in tokenized_texts_and_labels]\r\n",
        "    labels = [token_label_pair[1] for token_label_pair in tokenized_texts_and_labels]\r\n",
        "    return tokenized_texts, labels"
      ],
      "execution_count": 11,
      "outputs": []
    },
    {
      "cell_type": "code",
      "metadata": {
        "id": "QKmCFaeQlgjg"
      },
      "source": [
        "tokenized_texts, labels = tokenized(sentences,labels)"
      ],
      "execution_count": 12,
      "outputs": []
    },
    {
      "cell_type": "markdown",
      "metadata": {
        "id": "D65YDbkfxlbD"
      },
      "source": [
        "Kemudian berikan padding dan mendapatkan attention mask dari kalimat tersebut"
      ]
    },
    {
      "cell_type": "code",
      "metadata": {
        "id": "Pw9o7K-qO4Zo"
      },
      "source": [
        "from keras.preprocessing.sequence import pad_sequences\r\n",
        "\r\n",
        "def get_input_tags_attention(tokenized_texts, labels, MAX_LEN):\r\n",
        "  input_ids = pad_sequences([tokenizer.convert_tokens_to_ids(txt) for txt in tokenized_texts],\r\n",
        "                          maxlen=MAX_LEN, dtype=\"long\", value=0.0,\r\n",
        "                          truncating=\"post\", padding=\"post\")\r\n",
        "  tags = pad_sequences([[tag2idx.get(l) for l in lab] for lab in labels],\r\n",
        "                     maxlen=MAX_LEN, value=tag2idx[\"PAD\"], padding=\"post\",\r\n",
        "                     dtype=\"long\", truncating=\"post\")\r\n",
        "  attention_masks = [[float(i != 0.0) for i in ii] for ii in input_ids]\r\n",
        "\r\n",
        "  return input_ids, tags, attention_masks"
      ],
      "execution_count": 13,
      "outputs": []
    },
    {
      "cell_type": "code",
      "metadata": {
        "id": "64AJaGNhPQaW"
      },
      "source": [
        "input_ids, tags, attention_masks = get_input_tags_attention(tokenized_texts, labels, MAX_LEN)"
      ],
      "execution_count": 17,
      "outputs": []
    },
    {
      "cell_type": "markdown",
      "metadata": {
        "id": "Isn4fx9uxvvq"
      },
      "source": [
        "## Train Val split dan Data Loader\r\n",
        "Melakukan pembagian data dan load datanya"
      ]
    },
    {
      "cell_type": "code",
      "metadata": {
        "id": "n1HGJ8rHluKh"
      },
      "source": [
        "tr_inputs, val_inputs, tr_tags, val_tags = train_test_split(input_ids, tags,\r\n",
        "                                                            random_state=2018, test_size=0.1)\r\n",
        "tr_masks, val_masks, _, _ = train_test_split(attention_masks, input_ids,\r\n",
        "                                             random_state=2018, test_size=0.1)"
      ],
      "execution_count": 18,
      "outputs": []
    },
    {
      "cell_type": "code",
      "metadata": {
        "id": "puy7_rbClv5e"
      },
      "source": [
        "def data_loader(input_ids, tag, attention_mask, bs):\r\n",
        "  t_inputs = torch.tensor(input_ids)\r\n",
        "  t_tags = torch.tensor(tag)\r\n",
        "  t_masks = torch.tensor(attention_mask)\r\n",
        "\r\n",
        "  data = TensorDataset(t_inputs, t_masks, t_tags)\r\n",
        "  dataloader = DataLoader(data, batch_size=bs)\r\n",
        "\r\n",
        "  return data, dataloader"
      ],
      "execution_count": 19,
      "outputs": []
    },
    {
      "cell_type": "code",
      "metadata": {
        "id": "tvYH3Bwjl7kv"
      },
      "source": [
        "train_data,train_dataloader = data_loader(tr_inputs, tr_tags, tr_masks,bs)\r\n",
        "valid_data,valid_dataloader = data_loader(val_inputs, val_tags, val_masks,bs)"
      ],
      "execution_count": 20,
      "outputs": []
    },
    {
      "cell_type": "markdown",
      "metadata": {
        "id": "e5XtqT8rnPaf"
      },
      "source": [
        "## BERT Model\r\n",
        "Inisiasi bert model"
      ]
    },
    {
      "cell_type": "code",
      "metadata": {
        "colab": {
          "base_uri": "https://localhost:8080/",
          "height": 235,
          "referenced_widgets": [
            "b7b63b1014db4805a82c6fb23be52632",
            "619bc3c0f9d14e47ad5cd15ed33bc142",
            "d52b8e2102c04d3f9032e921a1743e5d",
            "5eee2540de9f421da60f7b437f64c3ec",
            "5e927f16a4a044e5b1f1b03c5ca51ddf",
            "22ccd79b1167400e9c1289fdb417f408",
            "32b61bf68ee943f5b9f80341b2c8e067",
            "6f5ea7a778c34ddfbcba87c766c41842",
            "71f83e5a35ab42169fb1d8dcc4ca6781",
            "c5fdb933c4b34c1dbfcb42bfe61b61f0",
            "23ae224ff6d34efcad8538badbb26577",
            "4c35bbdf2b1e47aebab420eb67db6ac1",
            "c7e76eec19c245c3ae44839c990175c8",
            "9fef83e3ec7f4d96aa2c36a6913d3520",
            "4fad0eb0ab9c4dffa896e6586cd8e06c",
            "8c17cad19dff44dba830181aef7f7eb3"
          ]
        },
        "id": "wAfL80UYnQh7",
        "outputId": "c71cd1bd-cf6f-4cf8-8278-db8be4b6bc4f"
      },
      "source": [
        "from transformers import DistilBertForTokenClassification\r\n",
        "\r\n",
        "model = DistilBertForTokenClassification.from_pretrained(\r\n",
        "    PRE_TRAINED_MODEL_NAME,\r\n",
        "    num_labels=len(tag2idx),\r\n",
        "    output_attentions = False,\r\n",
        "    output_hidden_states = False\r\n",
        ")"
      ],
      "execution_count": 21,
      "outputs": [
        {
          "output_type": "display_data",
          "data": {
            "application/vnd.jupyter.widget-view+json": {
              "model_id": "b7b63b1014db4805a82c6fb23be52632",
              "version_minor": 0,
              "version_major": 2
            },
            "text/plain": [
              "HBox(children=(FloatProgress(value=0.0, description='Downloading', max=411.0, style=ProgressStyle(description_…"
            ]
          },
          "metadata": {
            "tags": []
          }
        },
        {
          "output_type": "stream",
          "text": [
            "\n"
          ],
          "name": "stdout"
        },
        {
          "output_type": "display_data",
          "data": {
            "application/vnd.jupyter.widget-view+json": {
              "model_id": "71f83e5a35ab42169fb1d8dcc4ca6781",
              "version_minor": 0,
              "version_major": 2
            },
            "text/plain": [
              "HBox(children=(FloatProgress(value=0.0, description='Downloading', max=263273408.0, style=ProgressStyle(descri…"
            ]
          },
          "metadata": {
            "tags": []
          }
        },
        {
          "output_type": "stream",
          "text": [
            "\n"
          ],
          "name": "stdout"
        },
        {
          "output_type": "stream",
          "text": [
            "Some weights of the model checkpoint at distilbert-base-cased were not used when initializing DistilBertForTokenClassification: ['vocab_transform.weight', 'vocab_transform.bias', 'vocab_layer_norm.weight', 'vocab_layer_norm.bias', 'vocab_projector.weight', 'vocab_projector.bias']\n",
            "- This IS expected if you are initializing DistilBertForTokenClassification from the checkpoint of a model trained on another task or with another architecture (e.g. initializing a BertForSequenceClassification model from a BertForPretraining model).\n",
            "- This IS NOT expected if you are initializing DistilBertForTokenClassification from the checkpoint of a model that you expect to be exactly identical (initializing a BertForSequenceClassification model from a BertForSequenceClassification model).\n",
            "Some weights of DistilBertForTokenClassification were not initialized from the model checkpoint at distilbert-base-cased and are newly initialized: ['classifier.weight', 'classifier.bias']\n",
            "You should probably TRAIN this model on a down-stream task to be able to use it for predictions and inference.\n"
          ],
          "name": "stderr"
        }
      ]
    },
    {
      "cell_type": "markdown",
      "metadata": {
        "id": "7Au00dxQ6esZ"
      },
      "source": [
        "Insert Model ke GPU"
      ]
    },
    {
      "cell_type": "code",
      "metadata": {
        "colab": {
          "base_uri": "https://localhost:8080/"
        },
        "id": "UNa5vhW8nbNs",
        "outputId": "7b1a168b-3890-4533-82d5-536a27b8d14a"
      },
      "source": [
        "model.cuda()"
      ],
      "execution_count": 22,
      "outputs": [
        {
          "output_type": "execute_result",
          "data": {
            "text/plain": [
              "DistilBertForTokenClassification(\n",
              "  (distilbert): DistilBertModel(\n",
              "    (embeddings): Embeddings(\n",
              "      (word_embeddings): Embedding(28996, 768, padding_idx=0)\n",
              "      (position_embeddings): Embedding(512, 768)\n",
              "      (LayerNorm): LayerNorm((768,), eps=1e-12, elementwise_affine=True)\n",
              "      (dropout): Dropout(p=0.1, inplace=False)\n",
              "    )\n",
              "    (transformer): Transformer(\n",
              "      (layer): ModuleList(\n",
              "        (0): TransformerBlock(\n",
              "          (attention): MultiHeadSelfAttention(\n",
              "            (dropout): Dropout(p=0.1, inplace=False)\n",
              "            (q_lin): Linear(in_features=768, out_features=768, bias=True)\n",
              "            (k_lin): Linear(in_features=768, out_features=768, bias=True)\n",
              "            (v_lin): Linear(in_features=768, out_features=768, bias=True)\n",
              "            (out_lin): Linear(in_features=768, out_features=768, bias=True)\n",
              "          )\n",
              "          (sa_layer_norm): LayerNorm((768,), eps=1e-12, elementwise_affine=True)\n",
              "          (ffn): FFN(\n",
              "            (dropout): Dropout(p=0.1, inplace=False)\n",
              "            (lin1): Linear(in_features=768, out_features=3072, bias=True)\n",
              "            (lin2): Linear(in_features=3072, out_features=768, bias=True)\n",
              "          )\n",
              "          (output_layer_norm): LayerNorm((768,), eps=1e-12, elementwise_affine=True)\n",
              "        )\n",
              "        (1): TransformerBlock(\n",
              "          (attention): MultiHeadSelfAttention(\n",
              "            (dropout): Dropout(p=0.1, inplace=False)\n",
              "            (q_lin): Linear(in_features=768, out_features=768, bias=True)\n",
              "            (k_lin): Linear(in_features=768, out_features=768, bias=True)\n",
              "            (v_lin): Linear(in_features=768, out_features=768, bias=True)\n",
              "            (out_lin): Linear(in_features=768, out_features=768, bias=True)\n",
              "          )\n",
              "          (sa_layer_norm): LayerNorm((768,), eps=1e-12, elementwise_affine=True)\n",
              "          (ffn): FFN(\n",
              "            (dropout): Dropout(p=0.1, inplace=False)\n",
              "            (lin1): Linear(in_features=768, out_features=3072, bias=True)\n",
              "            (lin2): Linear(in_features=3072, out_features=768, bias=True)\n",
              "          )\n",
              "          (output_layer_norm): LayerNorm((768,), eps=1e-12, elementwise_affine=True)\n",
              "        )\n",
              "        (2): TransformerBlock(\n",
              "          (attention): MultiHeadSelfAttention(\n",
              "            (dropout): Dropout(p=0.1, inplace=False)\n",
              "            (q_lin): Linear(in_features=768, out_features=768, bias=True)\n",
              "            (k_lin): Linear(in_features=768, out_features=768, bias=True)\n",
              "            (v_lin): Linear(in_features=768, out_features=768, bias=True)\n",
              "            (out_lin): Linear(in_features=768, out_features=768, bias=True)\n",
              "          )\n",
              "          (sa_layer_norm): LayerNorm((768,), eps=1e-12, elementwise_affine=True)\n",
              "          (ffn): FFN(\n",
              "            (dropout): Dropout(p=0.1, inplace=False)\n",
              "            (lin1): Linear(in_features=768, out_features=3072, bias=True)\n",
              "            (lin2): Linear(in_features=3072, out_features=768, bias=True)\n",
              "          )\n",
              "          (output_layer_norm): LayerNorm((768,), eps=1e-12, elementwise_affine=True)\n",
              "        )\n",
              "        (3): TransformerBlock(\n",
              "          (attention): MultiHeadSelfAttention(\n",
              "            (dropout): Dropout(p=0.1, inplace=False)\n",
              "            (q_lin): Linear(in_features=768, out_features=768, bias=True)\n",
              "            (k_lin): Linear(in_features=768, out_features=768, bias=True)\n",
              "            (v_lin): Linear(in_features=768, out_features=768, bias=True)\n",
              "            (out_lin): Linear(in_features=768, out_features=768, bias=True)\n",
              "          )\n",
              "          (sa_layer_norm): LayerNorm((768,), eps=1e-12, elementwise_affine=True)\n",
              "          (ffn): FFN(\n",
              "            (dropout): Dropout(p=0.1, inplace=False)\n",
              "            (lin1): Linear(in_features=768, out_features=3072, bias=True)\n",
              "            (lin2): Linear(in_features=3072, out_features=768, bias=True)\n",
              "          )\n",
              "          (output_layer_norm): LayerNorm((768,), eps=1e-12, elementwise_affine=True)\n",
              "        )\n",
              "        (4): TransformerBlock(\n",
              "          (attention): MultiHeadSelfAttention(\n",
              "            (dropout): Dropout(p=0.1, inplace=False)\n",
              "            (q_lin): Linear(in_features=768, out_features=768, bias=True)\n",
              "            (k_lin): Linear(in_features=768, out_features=768, bias=True)\n",
              "            (v_lin): Linear(in_features=768, out_features=768, bias=True)\n",
              "            (out_lin): Linear(in_features=768, out_features=768, bias=True)\n",
              "          )\n",
              "          (sa_layer_norm): LayerNorm((768,), eps=1e-12, elementwise_affine=True)\n",
              "          (ffn): FFN(\n",
              "            (dropout): Dropout(p=0.1, inplace=False)\n",
              "            (lin1): Linear(in_features=768, out_features=3072, bias=True)\n",
              "            (lin2): Linear(in_features=3072, out_features=768, bias=True)\n",
              "          )\n",
              "          (output_layer_norm): LayerNorm((768,), eps=1e-12, elementwise_affine=True)\n",
              "        )\n",
              "        (5): TransformerBlock(\n",
              "          (attention): MultiHeadSelfAttention(\n",
              "            (dropout): Dropout(p=0.1, inplace=False)\n",
              "            (q_lin): Linear(in_features=768, out_features=768, bias=True)\n",
              "            (k_lin): Linear(in_features=768, out_features=768, bias=True)\n",
              "            (v_lin): Linear(in_features=768, out_features=768, bias=True)\n",
              "            (out_lin): Linear(in_features=768, out_features=768, bias=True)\n",
              "          )\n",
              "          (sa_layer_norm): LayerNorm((768,), eps=1e-12, elementwise_affine=True)\n",
              "          (ffn): FFN(\n",
              "            (dropout): Dropout(p=0.1, inplace=False)\n",
              "            (lin1): Linear(in_features=768, out_features=3072, bias=True)\n",
              "            (lin2): Linear(in_features=3072, out_features=768, bias=True)\n",
              "          )\n",
              "          (output_layer_norm): LayerNorm((768,), eps=1e-12, elementwise_affine=True)\n",
              "        )\n",
              "      )\n",
              "    )\n",
              "  )\n",
              "  (dropout): Dropout(p=0.1, inplace=False)\n",
              "  (classifier): Linear(in_features=768, out_features=24, bias=True)\n",
              ")"
            ]
          },
          "metadata": {
            "tags": []
          },
          "execution_count": 22
        }
      ]
    },
    {
      "cell_type": "markdown",
      "metadata": {
        "id": "Z1FYSUcA6hRh"
      },
      "source": [
        "Set optimizer, epoch, dan scheduler"
      ]
    },
    {
      "cell_type": "code",
      "metadata": {
        "id": "aPqxJ-C8oDy2"
      },
      "source": [
        "epochs = 5\r\n",
        "\r\n",
        "#set optimizer\r\n",
        "optimizer = AdamW(model.parameters(), lr=2e-5, correct_bias=False)\r\n",
        "total_steps = len(train_dataloader) * epochs\r\n",
        "\r\n",
        "#set schedule\r\n",
        "scheduler = get_linear_schedule_with_warmup(\r\n",
        "  optimizer,\r\n",
        "  num_warmup_steps=0,\r\n",
        "  num_training_steps=total_steps\r\n",
        ")"
      ],
      "execution_count": 23,
      "outputs": []
    },
    {
      "cell_type": "markdown",
      "metadata": {
        "id": "a3JhFu9tzHGA"
      },
      "source": [
        "## Model Function\r\n",
        "Berikut ini fungsi training dan fungsi evaluasi"
      ]
    },
    {
      "cell_type": "markdown",
      "metadata": {
        "id": "VeZVAF9x6uXO"
      },
      "source": [
        "### Fungsi train_epoch"
      ]
    },
    {
      "cell_type": "code",
      "metadata": {
        "id": "sBmfxaBU_82b"
      },
      "source": [
        "def train_epoch(\r\n",
        "  model, \r\n",
        "  data_loader, \r\n",
        "  optimizer, \r\n",
        "  device, \r\n",
        "  scheduler, \r\n",
        "  n_examples\r\n",
        "):\r\n",
        "  # Put the model into training mode.\r\n",
        "  model.train()\r\n",
        "  # Reset the total loss for this epoch.\r\n",
        "  total_loss = 0\r\n",
        "\r\n",
        "  # Reset the validation loss for this epoch.\r\n",
        "  nb_eval_steps, nb_eval_examples = 0, 0\r\n",
        "  predictions , true_labels = [], []\r\n",
        "\r\n",
        "  # Training loop\r\n",
        "  for step, batch in enumerate(data_loader):\r\n",
        "      # add batch to gpu\r\n",
        "      batch = tuple(t.to(device) for t in batch)\r\n",
        "      b_input_ids, b_input_mask, b_labels = batch\r\n",
        "      # Always clear any previously calculated gradients before performing a backward pass.\r\n",
        "      model.zero_grad()\r\n",
        "      # forward pass\r\n",
        "      # This will return the loss (rather than the model output)\r\n",
        "      # because we have provided the `labels`.\r\n",
        "      outputs = model(b_input_ids, attention_mask=b_input_mask, labels=b_labels)\r\n",
        "\r\n",
        "      # Move logits and labels to CPU\r\n",
        "      logits = outputs[1].detach().cpu().numpy()\r\n",
        "      label_ids = b_labels.to('cpu').numpy()\r\n",
        "      predictions.extend([list(p) for p in np.argmax(logits, axis=2)])\r\n",
        "      true_labels.extend(label_ids)\r\n",
        "\r\n",
        "      # get the loss\r\n",
        "      loss = outputs[0]\r\n",
        "      # Perform a backward pass to calculate the gradients.\r\n",
        "      loss.backward()\r\n",
        "      # track train loss\r\n",
        "      total_loss += loss.item()\r\n",
        "      # Clip the norm of the gradient\r\n",
        "      # This is to help prevent the \"exploding gradients\" problem.\r\n",
        "      torch.nn.utils.clip_grad_norm_(parameters=model.parameters(), max_norm=1)\r\n",
        "      # update parameters\r\n",
        "      optimizer.step()\r\n",
        "      # Update the learning rate.\r\n",
        "      scheduler.step()\r\n",
        "\r\n",
        "    # Calculate the average loss over the training data.\r\n",
        "  avg_train_loss = total_loss / len(data_loader)\r\n",
        "  pred_tags = [tag_values[p_i] for p, l in zip(predictions, true_labels)\r\n",
        "                                 for p_i, l_i in zip(p, l) if tag_values[l_i] != \"PAD\"]\r\n",
        "  valid_tags = [tag_values[l_i] for l in true_labels\r\n",
        "                                  for l_i in l if tag_values[l_i] != \"PAD\"]\r\n",
        "  return accuracy_score(pred_tags, valid_tags),avg_train_loss"
      ],
      "execution_count": 24,
      "outputs": []
    },
    {
      "cell_type": "markdown",
      "metadata": {
        "id": "ocZ-mXH06yrM"
      },
      "source": [
        "### Fungsi eval_model"
      ]
    },
    {
      "cell_type": "code",
      "metadata": {
        "id": "q2--J2KHBG5n"
      },
      "source": [
        "def eval_model(model, data_loader, device, n_examples):\r\n",
        "\r\n",
        "  # Put the model into evaluation mode\r\n",
        "  model.eval()\r\n",
        "  # Reset the validation loss for this epoch.\r\n",
        "  eval_loss, eval_accuracy = 0, 0\r\n",
        "  nb_eval_steps, nb_eval_examples = 0, 0\r\n",
        "  predictions , true_labels = [], []\r\n",
        "  \r\n",
        "  for batch in data_loader:\r\n",
        "      batch = tuple(t.to(device) for t in batch)\r\n",
        "      b_input_ids, b_input_mask, b_labels = batch\r\n",
        "\r\n",
        "      # Telling the model not to compute or store gradients,\r\n",
        "      # saving memory and speeding up validation\r\n",
        "      with torch.no_grad():\r\n",
        "          # Forward pass, calculate logit predictions.\r\n",
        "          # This will return the logits rather than the loss because we have not provided labels.\r\n",
        "          outputs = model(b_input_ids, attention_mask=b_input_mask, labels=b_labels)\r\n",
        "\r\n",
        "      # Move logits and labels to CPU\r\n",
        "      logits = outputs[1].detach().cpu().numpy()\r\n",
        "      label_ids = b_labels.to('cpu').numpy()\r\n",
        "\r\n",
        "      # Calculate the accuracy for this batch of test sentences.\r\n",
        "      eval_loss += outputs[0].mean().item()\r\n",
        "      predictions.extend([list(p) for p in np.argmax(logits, axis=2)])\r\n",
        "      true_labels.extend(label_ids)\r\n",
        "\r\n",
        "  eval_loss = eval_loss / len(data_loader)\r\n",
        "  pred_tags = [tag_values[p_i] for p, l in zip(predictions, true_labels)\r\n",
        "                                 for p_i, l_i in zip(p, l) if tag_values[l_i] != \"PAD\"]\r\n",
        "  valid_tags = [tag_values[l_i] for l in true_labels\r\n",
        "                                  for l_i in l if tag_values[l_i] != \"PAD\"]\r\n",
        "  return accuracy_score(pred_tags, valid_tags),eval_loss"
      ],
      "execution_count": 25,
      "outputs": []
    },
    {
      "cell_type": "markdown",
      "metadata": {
        "id": "uKpImqTzAJng"
      },
      "source": [
        "## Proses"
      ]
    },
    {
      "cell_type": "code",
      "metadata": {
        "colab": {
          "base_uri": "https://localhost:8080/"
        },
        "id": "tA0knxTk9ULx",
        "outputId": "d84ca3d2-0dda-45f2-9a37-14f2ae6a1e6a"
      },
      "source": [
        "from sklearn.metrics import accuracy_score\r\n",
        "## Store the average loss after each epoch so we can plot them.\r\n",
        "loss_values, validation_loss_values = [], []\r\n",
        "\r\n",
        "for epoch in range(epochs):\r\n",
        "    # ========================================\r\n",
        "    #               Training\r\n",
        "    # ========================================\r\n",
        "    # Perform one full pass over the training set.\r\n",
        "\r\n",
        "    print(f'Epoch {epoch + 1}/{epochs}')\r\n",
        "    print('-' * 10)\r\n",
        "\r\n",
        "    #memanggil fungsi train epoch\r\n",
        "    train_acc, train_loss = train_epoch(\r\n",
        "      model,\r\n",
        "      train_dataloader,    \r\n",
        "      optimizer, \r\n",
        "      device, \r\n",
        "      scheduler, \r\n",
        "      len(train_data)\r\n",
        "    )\r\n",
        "\r\n",
        "    #mencetak train loss dan accuracy\r\n",
        "    print(f'Train loss {train_loss} accuracy {train_acc}')\r\n",
        "\r\n",
        "\r\n",
        "    # ========================================\r\n",
        "    #               Validation\r\n",
        "    # ========================================\r\n",
        "    # After the completion of each training epoch, measure our performance on\r\n",
        "    # our validation set.\r\n",
        "\r\n",
        "    val_acc, val_loss = eval_model(\r\n",
        "      model,\r\n",
        "      valid_dataloader,    \r\n",
        "      device, \r\n",
        "      len(valid_data)\r\n",
        "    )\r\n",
        "    \r\n",
        "    #mencetak val loss dan accuracy\r\n",
        "    print(f'Val   loss {val_loss} accuracy {val_acc}')\r\n",
        "    print()\r\n"
      ],
      "execution_count": 26,
      "outputs": [
        {
          "output_type": "stream",
          "text": [
            "Epoch 1/5\n",
            "----------\n",
            "Train loss 0.3107265374726719 accuracy 0.9063687466633169\n",
            "Val   loss 0.11248449701815844 accuracy 0.9692415402567095\n",
            "\n",
            "Epoch 2/5\n",
            "----------\n",
            "Train loss 0.08420568990654179 accuracy 0.9765045169529671\n",
            "Val   loss 0.1069880628160068 accuracy 0.9718553092182031\n",
            "\n",
            "Epoch 3/5\n",
            "----------\n",
            "Train loss 0.05172471240872428 accuracy 0.9861717384249808\n",
            "Val   loss 0.10925127792039088 accuracy 0.9721353558926488\n",
            "\n",
            "Epoch 4/5\n",
            "----------\n",
            "Train loss 0.03755601450786113 accuracy 0.9900553758544526\n",
            "Val   loss 0.11047332481081996 accuracy 0.9725087514585764\n",
            "\n",
            "Epoch 5/5\n",
            "----------\n",
            "Train loss 0.030461816946857623 accuracy 0.9921228108741849\n",
            "Val   loss 0.11190409905144147 accuracy 0.973022170361727\n",
            "\n"
          ],
          "name": "stdout"
        }
      ]
    },
    {
      "cell_type": "markdown",
      "metadata": {
        "id": "C8dMtTLP39kl"
      },
      "source": [
        "## Pengujian dengan data test"
      ]
    },
    {
      "cell_type": "code",
      "metadata": {
        "id": "UbxuMmLwTaKI"
      },
      "source": [
        "tokenized_texts_test, labels_test = tokenized(sentences_test,labels_test)"
      ],
      "execution_count": 27,
      "outputs": []
    },
    {
      "cell_type": "code",
      "metadata": {
        "id": "3hK7uAEATaKL"
      },
      "source": [
        "input_ids_test, tags_test, attention_masks_test = get_input_tags_attention(tokenized_texts_test, labels_test, MAX_LEN)"
      ],
      "execution_count": 28,
      "outputs": []
    },
    {
      "cell_type": "code",
      "metadata": {
        "id": "O6kk91-1TaKM"
      },
      "source": [
        "test_data,test_dataloader = data_loader(input_ids_test, tags_test, attention_masks_test,bs)"
      ],
      "execution_count": 29,
      "outputs": []
    },
    {
      "cell_type": "code",
      "metadata": {
        "id": "b3cD_a5053fW"
      },
      "source": [
        "train_acc, train_loss = eval_model(\r\n",
        "      model,\r\n",
        "      train_dataloader,    \r\n",
        "      device, \r\n",
        "      len(train_data)\r\n",
        ")\r\n",
        "val_acc, val_loss = eval_model(\r\n",
        "      model,\r\n",
        "      valid_dataloader,    \r\n",
        "      device, \r\n",
        "      len(valid_data)\r\n",
        ")\r\n",
        "test_acc, test_loss = eval_model(\r\n",
        "      model,\r\n",
        "      test_dataloader,    \r\n",
        "      device, \r\n",
        "      len(test_data)\r\n",
        ")"
      ],
      "execution_count": 31,
      "outputs": []
    },
    {
      "cell_type": "code",
      "metadata": {
        "colab": {
          "base_uri": "https://localhost:8080/"
        },
        "id": "2MHqQtPO6E_t",
        "outputId": "a90f02a5-2c34-47b4-f390-001d9ab9dbd7"
      },
      "source": [
        "print(train_acc)\r\n",
        "print(val_acc)\r\n",
        "print(test_acc)"
      ],
      "execution_count": 32,
      "outputs": [
        {
          "output_type": "stream",
          "text": [
            "0.9952108783720127\n",
            "0.973022170361727\n",
            "0.9710286188303608\n"
          ],
          "name": "stdout"
        }
      ]
    }
  ]
}