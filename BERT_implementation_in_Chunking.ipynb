{
  "nbformat": 4,
  "nbformat_minor": 0,
  "metadata": {
    "colab": {
      "name": "BERT implementation in Chunking.ipynb",
      "provenance": [],
      "toc_visible": true,
      "authorship_tag": "ABX9TyNcUJDw5Tni+sTc5X6c9Com",
      "include_colab_link": true
    },
    "kernelspec": {
      "name": "python3",
      "display_name": "Python 3"
    },
    "accelerator": "GPU",
    "widgets": {
      "application/vnd.jupyter.widget-state+json": {
        "b77e2a16bcbe49e3aa9c17b8d3e10c76": {
          "model_module": "@jupyter-widgets/controls",
          "model_name": "HBoxModel",
          "state": {
            "_view_name": "HBoxView",
            "_dom_classes": [],
            "_model_name": "HBoxModel",
            "_view_module": "@jupyter-widgets/controls",
            "_model_module_version": "1.5.0",
            "_view_count": null,
            "_view_module_version": "1.5.0",
            "box_style": "",
            "layout": "IPY_MODEL_8a5c34afcd784b5994f7feb25dccfc19",
            "_model_module": "@jupyter-widgets/controls",
            "children": [
              "IPY_MODEL_5798a1c305d146ca988d8bfc012907a3",
              "IPY_MODEL_5eda2b1eaf674a6d9e0cdcbc35773f39"
            ]
          }
        },
        "8a5c34afcd784b5994f7feb25dccfc19": {
          "model_module": "@jupyter-widgets/base",
          "model_name": "LayoutModel",
          "state": {
            "_view_name": "LayoutView",
            "grid_template_rows": null,
            "right": null,
            "justify_content": null,
            "_view_module": "@jupyter-widgets/base",
            "overflow": null,
            "_model_module_version": "1.2.0",
            "_view_count": null,
            "flex_flow": null,
            "width": null,
            "min_width": null,
            "border": null,
            "align_items": null,
            "bottom": null,
            "_model_module": "@jupyter-widgets/base",
            "top": null,
            "grid_column": null,
            "overflow_y": null,
            "overflow_x": null,
            "grid_auto_flow": null,
            "grid_area": null,
            "grid_template_columns": null,
            "flex": null,
            "_model_name": "LayoutModel",
            "justify_items": null,
            "grid_row": null,
            "max_height": null,
            "align_content": null,
            "visibility": null,
            "align_self": null,
            "height": null,
            "min_height": null,
            "padding": null,
            "grid_auto_rows": null,
            "grid_gap": null,
            "max_width": null,
            "order": null,
            "_view_module_version": "1.2.0",
            "grid_template_areas": null,
            "object_position": null,
            "object_fit": null,
            "grid_auto_columns": null,
            "margin": null,
            "display": null,
            "left": null
          }
        },
        "5798a1c305d146ca988d8bfc012907a3": {
          "model_module": "@jupyter-widgets/controls",
          "model_name": "FloatProgressModel",
          "state": {
            "_view_name": "ProgressView",
            "style": "IPY_MODEL_d4216e45a3ea4b55aac00e7f4ac8f791",
            "_dom_classes": [],
            "description": "Downloading: 100%",
            "_model_name": "FloatProgressModel",
            "bar_style": "success",
            "max": 213450,
            "_view_module": "@jupyter-widgets/controls",
            "_model_module_version": "1.5.0",
            "value": 213450,
            "_view_count": null,
            "_view_module_version": "1.5.0",
            "orientation": "horizontal",
            "min": 0,
            "description_tooltip": null,
            "_model_module": "@jupyter-widgets/controls",
            "layout": "IPY_MODEL_5614713522824579a2789c5b4246aac0"
          }
        },
        "5eda2b1eaf674a6d9e0cdcbc35773f39": {
          "model_module": "@jupyter-widgets/controls",
          "model_name": "HTMLModel",
          "state": {
            "_view_name": "HTMLView",
            "style": "IPY_MODEL_80234501637e47eb98ab507a3ebf3bea",
            "_dom_classes": [],
            "description": "",
            "_model_name": "HTMLModel",
            "placeholder": "​",
            "_view_module": "@jupyter-widgets/controls",
            "_model_module_version": "1.5.0",
            "value": " 213k/213k [00:00&lt;00:00, 3.22MB/s]",
            "_view_count": null,
            "_view_module_version": "1.5.0",
            "description_tooltip": null,
            "_model_module": "@jupyter-widgets/controls",
            "layout": "IPY_MODEL_746bec49d1584138b248e0747de00a86"
          }
        },
        "d4216e45a3ea4b55aac00e7f4ac8f791": {
          "model_module": "@jupyter-widgets/controls",
          "model_name": "ProgressStyleModel",
          "state": {
            "_view_name": "StyleView",
            "_model_name": "ProgressStyleModel",
            "description_width": "initial",
            "_view_module": "@jupyter-widgets/base",
            "_model_module_version": "1.5.0",
            "_view_count": null,
            "_view_module_version": "1.2.0",
            "bar_color": null,
            "_model_module": "@jupyter-widgets/controls"
          }
        },
        "5614713522824579a2789c5b4246aac0": {
          "model_module": "@jupyter-widgets/base",
          "model_name": "LayoutModel",
          "state": {
            "_view_name": "LayoutView",
            "grid_template_rows": null,
            "right": null,
            "justify_content": null,
            "_view_module": "@jupyter-widgets/base",
            "overflow": null,
            "_model_module_version": "1.2.0",
            "_view_count": null,
            "flex_flow": null,
            "width": null,
            "min_width": null,
            "border": null,
            "align_items": null,
            "bottom": null,
            "_model_module": "@jupyter-widgets/base",
            "top": null,
            "grid_column": null,
            "overflow_y": null,
            "overflow_x": null,
            "grid_auto_flow": null,
            "grid_area": null,
            "grid_template_columns": null,
            "flex": null,
            "_model_name": "LayoutModel",
            "justify_items": null,
            "grid_row": null,
            "max_height": null,
            "align_content": null,
            "visibility": null,
            "align_self": null,
            "height": null,
            "min_height": null,
            "padding": null,
            "grid_auto_rows": null,
            "grid_gap": null,
            "max_width": null,
            "order": null,
            "_view_module_version": "1.2.0",
            "grid_template_areas": null,
            "object_position": null,
            "object_fit": null,
            "grid_auto_columns": null,
            "margin": null,
            "display": null,
            "left": null
          }
        },
        "80234501637e47eb98ab507a3ebf3bea": {
          "model_module": "@jupyter-widgets/controls",
          "model_name": "DescriptionStyleModel",
          "state": {
            "_view_name": "StyleView",
            "_model_name": "DescriptionStyleModel",
            "description_width": "",
            "_view_module": "@jupyter-widgets/base",
            "_model_module_version": "1.5.0",
            "_view_count": null,
            "_view_module_version": "1.2.0",
            "_model_module": "@jupyter-widgets/controls"
          }
        },
        "746bec49d1584138b248e0747de00a86": {
          "model_module": "@jupyter-widgets/base",
          "model_name": "LayoutModel",
          "state": {
            "_view_name": "LayoutView",
            "grid_template_rows": null,
            "right": null,
            "justify_content": null,
            "_view_module": "@jupyter-widgets/base",
            "overflow": null,
            "_model_module_version": "1.2.0",
            "_view_count": null,
            "flex_flow": null,
            "width": null,
            "min_width": null,
            "border": null,
            "align_items": null,
            "bottom": null,
            "_model_module": "@jupyter-widgets/base",
            "top": null,
            "grid_column": null,
            "overflow_y": null,
            "overflow_x": null,
            "grid_auto_flow": null,
            "grid_area": null,
            "grid_template_columns": null,
            "flex": null,
            "_model_name": "LayoutModel",
            "justify_items": null,
            "grid_row": null,
            "max_height": null,
            "align_content": null,
            "visibility": null,
            "align_self": null,
            "height": null,
            "min_height": null,
            "padding": null,
            "grid_auto_rows": null,
            "grid_gap": null,
            "max_width": null,
            "order": null,
            "_view_module_version": "1.2.0",
            "grid_template_areas": null,
            "object_position": null,
            "object_fit": null,
            "grid_auto_columns": null,
            "margin": null,
            "display": null,
            "left": null
          }
        },
        "e02bdedfeadf496394d7b54cb4f17ef5": {
          "model_module": "@jupyter-widgets/controls",
          "model_name": "HBoxModel",
          "state": {
            "_view_name": "HBoxView",
            "_dom_classes": [],
            "_model_name": "HBoxModel",
            "_view_module": "@jupyter-widgets/controls",
            "_model_module_version": "1.5.0",
            "_view_count": null,
            "_view_module_version": "1.5.0",
            "box_style": "",
            "layout": "IPY_MODEL_efef660bb99546cd90249d54ef3042d5",
            "_model_module": "@jupyter-widgets/controls",
            "children": [
              "IPY_MODEL_9f6c7c511afe48fb94ddf77d894a0335",
              "IPY_MODEL_9edc465b8a164cb5b545d200fe584b60"
            ]
          }
        },
        "efef660bb99546cd90249d54ef3042d5": {
          "model_module": "@jupyter-widgets/base",
          "model_name": "LayoutModel",
          "state": {
            "_view_name": "LayoutView",
            "grid_template_rows": null,
            "right": null,
            "justify_content": null,
            "_view_module": "@jupyter-widgets/base",
            "overflow": null,
            "_model_module_version": "1.2.0",
            "_view_count": null,
            "flex_flow": null,
            "width": null,
            "min_width": null,
            "border": null,
            "align_items": null,
            "bottom": null,
            "_model_module": "@jupyter-widgets/base",
            "top": null,
            "grid_column": null,
            "overflow_y": null,
            "overflow_x": null,
            "grid_auto_flow": null,
            "grid_area": null,
            "grid_template_columns": null,
            "flex": null,
            "_model_name": "LayoutModel",
            "justify_items": null,
            "grid_row": null,
            "max_height": null,
            "align_content": null,
            "visibility": null,
            "align_self": null,
            "height": null,
            "min_height": null,
            "padding": null,
            "grid_auto_rows": null,
            "grid_gap": null,
            "max_width": null,
            "order": null,
            "_view_module_version": "1.2.0",
            "grid_template_areas": null,
            "object_position": null,
            "object_fit": null,
            "grid_auto_columns": null,
            "margin": null,
            "display": null,
            "left": null
          }
        },
        "9f6c7c511afe48fb94ddf77d894a0335": {
          "model_module": "@jupyter-widgets/controls",
          "model_name": "FloatProgressModel",
          "state": {
            "_view_name": "ProgressView",
            "style": "IPY_MODEL_0887508dd92f43f2809054c06ab9c488",
            "_dom_classes": [],
            "description": "Downloading: 100%",
            "_model_name": "FloatProgressModel",
            "bar_style": "success",
            "max": 411,
            "_view_module": "@jupyter-widgets/controls",
            "_model_module_version": "1.5.0",
            "value": 411,
            "_view_count": null,
            "_view_module_version": "1.5.0",
            "orientation": "horizontal",
            "min": 0,
            "description_tooltip": null,
            "_model_module": "@jupyter-widgets/controls",
            "layout": "IPY_MODEL_bdb5a75c19c1459e80a8367dc6d1ad8f"
          }
        },
        "9edc465b8a164cb5b545d200fe584b60": {
          "model_module": "@jupyter-widgets/controls",
          "model_name": "HTMLModel",
          "state": {
            "_view_name": "HTMLView",
            "style": "IPY_MODEL_699ea4d46fd447b28915a95d165b9be0",
            "_dom_classes": [],
            "description": "",
            "_model_name": "HTMLModel",
            "placeholder": "​",
            "_view_module": "@jupyter-widgets/controls",
            "_model_module_version": "1.5.0",
            "value": " 411/411 [00:00&lt;00:00, 2.52kB/s]",
            "_view_count": null,
            "_view_module_version": "1.5.0",
            "description_tooltip": null,
            "_model_module": "@jupyter-widgets/controls",
            "layout": "IPY_MODEL_156b3f6028594127985bda6868df5170"
          }
        },
        "0887508dd92f43f2809054c06ab9c488": {
          "model_module": "@jupyter-widgets/controls",
          "model_name": "ProgressStyleModel",
          "state": {
            "_view_name": "StyleView",
            "_model_name": "ProgressStyleModel",
            "description_width": "initial",
            "_view_module": "@jupyter-widgets/base",
            "_model_module_version": "1.5.0",
            "_view_count": null,
            "_view_module_version": "1.2.0",
            "bar_color": null,
            "_model_module": "@jupyter-widgets/controls"
          }
        },
        "bdb5a75c19c1459e80a8367dc6d1ad8f": {
          "model_module": "@jupyter-widgets/base",
          "model_name": "LayoutModel",
          "state": {
            "_view_name": "LayoutView",
            "grid_template_rows": null,
            "right": null,
            "justify_content": null,
            "_view_module": "@jupyter-widgets/base",
            "overflow": null,
            "_model_module_version": "1.2.0",
            "_view_count": null,
            "flex_flow": null,
            "width": null,
            "min_width": null,
            "border": null,
            "align_items": null,
            "bottom": null,
            "_model_module": "@jupyter-widgets/base",
            "top": null,
            "grid_column": null,
            "overflow_y": null,
            "overflow_x": null,
            "grid_auto_flow": null,
            "grid_area": null,
            "grid_template_columns": null,
            "flex": null,
            "_model_name": "LayoutModel",
            "justify_items": null,
            "grid_row": null,
            "max_height": null,
            "align_content": null,
            "visibility": null,
            "align_self": null,
            "height": null,
            "min_height": null,
            "padding": null,
            "grid_auto_rows": null,
            "grid_gap": null,
            "max_width": null,
            "order": null,
            "_view_module_version": "1.2.0",
            "grid_template_areas": null,
            "object_position": null,
            "object_fit": null,
            "grid_auto_columns": null,
            "margin": null,
            "display": null,
            "left": null
          }
        },
        "699ea4d46fd447b28915a95d165b9be0": {
          "model_module": "@jupyter-widgets/controls",
          "model_name": "DescriptionStyleModel",
          "state": {
            "_view_name": "StyleView",
            "_model_name": "DescriptionStyleModel",
            "description_width": "",
            "_view_module": "@jupyter-widgets/base",
            "_model_module_version": "1.5.0",
            "_view_count": null,
            "_view_module_version": "1.2.0",
            "_model_module": "@jupyter-widgets/controls"
          }
        },
        "156b3f6028594127985bda6868df5170": {
          "model_module": "@jupyter-widgets/base",
          "model_name": "LayoutModel",
          "state": {
            "_view_name": "LayoutView",
            "grid_template_rows": null,
            "right": null,
            "justify_content": null,
            "_view_module": "@jupyter-widgets/base",
            "overflow": null,
            "_model_module_version": "1.2.0",
            "_view_count": null,
            "flex_flow": null,
            "width": null,
            "min_width": null,
            "border": null,
            "align_items": null,
            "bottom": null,
            "_model_module": "@jupyter-widgets/base",
            "top": null,
            "grid_column": null,
            "overflow_y": null,
            "overflow_x": null,
            "grid_auto_flow": null,
            "grid_area": null,
            "grid_template_columns": null,
            "flex": null,
            "_model_name": "LayoutModel",
            "justify_items": null,
            "grid_row": null,
            "max_height": null,
            "align_content": null,
            "visibility": null,
            "align_self": null,
            "height": null,
            "min_height": null,
            "padding": null,
            "grid_auto_rows": null,
            "grid_gap": null,
            "max_width": null,
            "order": null,
            "_view_module_version": "1.2.0",
            "grid_template_areas": null,
            "object_position": null,
            "object_fit": null,
            "grid_auto_columns": null,
            "margin": null,
            "display": null,
            "left": null
          }
        },
        "7b4152d1bc164dcc8fa9dade18c7a755": {
          "model_module": "@jupyter-widgets/controls",
          "model_name": "HBoxModel",
          "state": {
            "_view_name": "HBoxView",
            "_dom_classes": [],
            "_model_name": "HBoxModel",
            "_view_module": "@jupyter-widgets/controls",
            "_model_module_version": "1.5.0",
            "_view_count": null,
            "_view_module_version": "1.5.0",
            "box_style": "",
            "layout": "IPY_MODEL_f301a3050e9f469a83ac14080f01e63e",
            "_model_module": "@jupyter-widgets/controls",
            "children": [
              "IPY_MODEL_e2f952f8d860420c8191929ce1c73a97",
              "IPY_MODEL_00201b84561b4913bc4008e2da663a7a"
            ]
          }
        },
        "f301a3050e9f469a83ac14080f01e63e": {
          "model_module": "@jupyter-widgets/base",
          "model_name": "LayoutModel",
          "state": {
            "_view_name": "LayoutView",
            "grid_template_rows": null,
            "right": null,
            "justify_content": null,
            "_view_module": "@jupyter-widgets/base",
            "overflow": null,
            "_model_module_version": "1.2.0",
            "_view_count": null,
            "flex_flow": null,
            "width": null,
            "min_width": null,
            "border": null,
            "align_items": null,
            "bottom": null,
            "_model_module": "@jupyter-widgets/base",
            "top": null,
            "grid_column": null,
            "overflow_y": null,
            "overflow_x": null,
            "grid_auto_flow": null,
            "grid_area": null,
            "grid_template_columns": null,
            "flex": null,
            "_model_name": "LayoutModel",
            "justify_items": null,
            "grid_row": null,
            "max_height": null,
            "align_content": null,
            "visibility": null,
            "align_self": null,
            "height": null,
            "min_height": null,
            "padding": null,
            "grid_auto_rows": null,
            "grid_gap": null,
            "max_width": null,
            "order": null,
            "_view_module_version": "1.2.0",
            "grid_template_areas": null,
            "object_position": null,
            "object_fit": null,
            "grid_auto_columns": null,
            "margin": null,
            "display": null,
            "left": null
          }
        },
        "e2f952f8d860420c8191929ce1c73a97": {
          "model_module": "@jupyter-widgets/controls",
          "model_name": "FloatProgressModel",
          "state": {
            "_view_name": "ProgressView",
            "style": "IPY_MODEL_aa5e0feb6c484342aac35010fbc7464a",
            "_dom_classes": [],
            "description": "Downloading: 100%",
            "_model_name": "FloatProgressModel",
            "bar_style": "success",
            "max": 263273408,
            "_view_module": "@jupyter-widgets/controls",
            "_model_module_version": "1.5.0",
            "value": 263273408,
            "_view_count": null,
            "_view_module_version": "1.5.0",
            "orientation": "horizontal",
            "min": 0,
            "description_tooltip": null,
            "_model_module": "@jupyter-widgets/controls",
            "layout": "IPY_MODEL_7c7ea26e8c794150b6ac1e48f0f5f955"
          }
        },
        "00201b84561b4913bc4008e2da663a7a": {
          "model_module": "@jupyter-widgets/controls",
          "model_name": "HTMLModel",
          "state": {
            "_view_name": "HTMLView",
            "style": "IPY_MODEL_afe0a2732d75423a8cf4867f3656797f",
            "_dom_classes": [],
            "description": "",
            "_model_name": "HTMLModel",
            "placeholder": "​",
            "_view_module": "@jupyter-widgets/controls",
            "_model_module_version": "1.5.0",
            "value": " 263M/263M [00:19&lt;00:00, 13.3MB/s]",
            "_view_count": null,
            "_view_module_version": "1.5.0",
            "description_tooltip": null,
            "_model_module": "@jupyter-widgets/controls",
            "layout": "IPY_MODEL_cdbc6b5ac1594fa789210523c91eee05"
          }
        },
        "aa5e0feb6c484342aac35010fbc7464a": {
          "model_module": "@jupyter-widgets/controls",
          "model_name": "ProgressStyleModel",
          "state": {
            "_view_name": "StyleView",
            "_model_name": "ProgressStyleModel",
            "description_width": "initial",
            "_view_module": "@jupyter-widgets/base",
            "_model_module_version": "1.5.0",
            "_view_count": null,
            "_view_module_version": "1.2.0",
            "bar_color": null,
            "_model_module": "@jupyter-widgets/controls"
          }
        },
        "7c7ea26e8c794150b6ac1e48f0f5f955": {
          "model_module": "@jupyter-widgets/base",
          "model_name": "LayoutModel",
          "state": {
            "_view_name": "LayoutView",
            "grid_template_rows": null,
            "right": null,
            "justify_content": null,
            "_view_module": "@jupyter-widgets/base",
            "overflow": null,
            "_model_module_version": "1.2.0",
            "_view_count": null,
            "flex_flow": null,
            "width": null,
            "min_width": null,
            "border": null,
            "align_items": null,
            "bottom": null,
            "_model_module": "@jupyter-widgets/base",
            "top": null,
            "grid_column": null,
            "overflow_y": null,
            "overflow_x": null,
            "grid_auto_flow": null,
            "grid_area": null,
            "grid_template_columns": null,
            "flex": null,
            "_model_name": "LayoutModel",
            "justify_items": null,
            "grid_row": null,
            "max_height": null,
            "align_content": null,
            "visibility": null,
            "align_self": null,
            "height": null,
            "min_height": null,
            "padding": null,
            "grid_auto_rows": null,
            "grid_gap": null,
            "max_width": null,
            "order": null,
            "_view_module_version": "1.2.0",
            "grid_template_areas": null,
            "object_position": null,
            "object_fit": null,
            "grid_auto_columns": null,
            "margin": null,
            "display": null,
            "left": null
          }
        },
        "afe0a2732d75423a8cf4867f3656797f": {
          "model_module": "@jupyter-widgets/controls",
          "model_name": "DescriptionStyleModel",
          "state": {
            "_view_name": "StyleView",
            "_model_name": "DescriptionStyleModel",
            "description_width": "",
            "_view_module": "@jupyter-widgets/base",
            "_model_module_version": "1.5.0",
            "_view_count": null,
            "_view_module_version": "1.2.0",
            "_model_module": "@jupyter-widgets/controls"
          }
        },
        "cdbc6b5ac1594fa789210523c91eee05": {
          "model_module": "@jupyter-widgets/base",
          "model_name": "LayoutModel",
          "state": {
            "_view_name": "LayoutView",
            "grid_template_rows": null,
            "right": null,
            "justify_content": null,
            "_view_module": "@jupyter-widgets/base",
            "overflow": null,
            "_model_module_version": "1.2.0",
            "_view_count": null,
            "flex_flow": null,
            "width": null,
            "min_width": null,
            "border": null,
            "align_items": null,
            "bottom": null,
            "_model_module": "@jupyter-widgets/base",
            "top": null,
            "grid_column": null,
            "overflow_y": null,
            "overflow_x": null,
            "grid_auto_flow": null,
            "grid_area": null,
            "grid_template_columns": null,
            "flex": null,
            "_model_name": "LayoutModel",
            "justify_items": null,
            "grid_row": null,
            "max_height": null,
            "align_content": null,
            "visibility": null,
            "align_self": null,
            "height": null,
            "min_height": null,
            "padding": null,
            "grid_auto_rows": null,
            "grid_gap": null,
            "max_width": null,
            "order": null,
            "_view_module_version": "1.2.0",
            "grid_template_areas": null,
            "object_position": null,
            "object_fit": null,
            "grid_auto_columns": null,
            "margin": null,
            "display": null,
            "left": null
          }
        }
      }
    }
  },
  "cells": [
    {
      "cell_type": "markdown",
      "metadata": {
        "id": "view-in-github",
        "colab_type": "text"
      },
      "source": [
        "<a href=\"https://colab.research.google.com/github/nadyadtm/BERT-Implementation-in-Chunking/blob/main/BERT_implementation_in_Chunking.ipynb\" target=\"_parent\"><img src=\"https://colab.research.google.com/assets/colab-badge.svg\" alt=\"Open In Colab\"/></a>"
      ]
    },
    {
      "cell_type": "markdown",
      "metadata": {
        "id": "9B9vkPE8wCbB"
      },
      "source": [
        "# BERT implementation in Chunking\r\n"
      ]
    },
    {
      "cell_type": "markdown",
      "metadata": {
        "id": "FzgC6zWPwHev"
      },
      "source": [
        "## Mount Google Drive"
      ]
    },
    {
      "cell_type": "code",
      "metadata": {
        "colab": {
          "base_uri": "https://localhost:8080/"
        },
        "id": "SZuRmoCW1vyv",
        "outputId": "bb7e75b6-6906-48f9-9402-5c931c33114d"
      },
      "source": [
        "# mount google drive\r\n",
        "from google.colab import drive\r\n",
        "drive.mount('/content/drive')"
      ],
      "execution_count": 1,
      "outputs": [
        {
          "output_type": "stream",
          "text": [
            "Mounted at /content/drive\n"
          ],
          "name": "stdout"
        }
      ]
    },
    {
      "cell_type": "markdown",
      "metadata": {
        "id": "vBKHZxCVCrl2"
      },
      "source": [
        "## Import Package"
      ]
    },
    {
      "cell_type": "code",
      "metadata": {
        "colab": {
          "base_uri": "https://localhost:8080/"
        },
        "id": "uiFVlKIHCuoc",
        "outputId": "35ea3f84-c810-49d4-e000-4b1bbeed4c71"
      },
      "source": [
        "#install package transformes dan lakukan import\r\n",
        "!pip install transformers==3\r\n",
        "import transformers\r\n",
        "from transformers import DistilBertModel, DistilBertTokenizer, AdamW, get_linear_schedule_with_warmup\r\n",
        "\r\n",
        "#import package pytorch\r\n",
        "import torch\r\n",
        "from torch import nn, optim\r\n",
        "from torch.utils.data import Dataset, DataLoader,TensorDataset\r\n",
        "from tqdm import tqdm, trange\r\n",
        "\r\n",
        "\r\n",
        "#import package sklearn\r\n",
        "from sklearn.model_selection import train_test_split\r\n",
        "from sklearn.metrics import confusion_matrix, classification_report\r\n",
        "\r\n",
        "#import numpy, pandas\r\n",
        "import numpy as np\r\n",
        "import pandas as pd\r\n",
        "\r\n",
        "import seaborn as sns\r\n",
        "from pylab import rcParams\r\n",
        "import matplotlib.pyplot as plt\r\n",
        "from matplotlib import rc\r\n",
        "from collections import defaultdict\r\n",
        "from textwrap import wrap\r\n",
        "\r\n",
        "#import os\r\n",
        "import os\r\n",
        "os.environ['CUDA_LAUNCH_BLOCKING'] = \"1\"\r\n",
        "\r\n",
        "RANDOM_SEED = 42\r\n",
        "np.random.seed(RANDOM_SEED)\r\n",
        "torch.manual_seed(RANDOM_SEED)"
      ],
      "execution_count": 2,
      "outputs": [
        {
          "output_type": "stream",
          "text": [
            "Collecting transformers==3\n",
            "\u001b[?25l  Downloading https://files.pythonhosted.org/packages/9c/35/1c3f6e62d81f5f0daff1384e6d5e6c5758682a8357ebc765ece2b9def62b/transformers-3.0.0-py3-none-any.whl (754kB)\n",
            "\u001b[K     |████████████████████████████████| 757kB 18.7MB/s \n",
            "\u001b[?25hCollecting sacremoses\n",
            "\u001b[?25l  Downloading https://files.pythonhosted.org/packages/7d/34/09d19aff26edcc8eb2a01bed8e98f13a1537005d31e95233fd48216eed10/sacremoses-0.0.43.tar.gz (883kB)\n",
            "\u001b[K     |████████████████████████████████| 890kB 57.6MB/s \n",
            "\u001b[?25hRequirement already satisfied: numpy in /usr/local/lib/python3.6/dist-packages (from transformers==3) (1.19.5)\n",
            "Collecting tokenizers==0.8.0-rc4\n",
            "\u001b[?25l  Downloading https://files.pythonhosted.org/packages/e8/bd/e5abec46af977c8a1375c1dca7cb1e5b3ec392ef279067af7f6bc50491a0/tokenizers-0.8.0rc4-cp36-cp36m-manylinux1_x86_64.whl (3.0MB)\n",
            "\u001b[K     |████████████████████████████████| 3.0MB 57.0MB/s \n",
            "\u001b[?25hRequirement already satisfied: dataclasses; python_version < \"3.7\" in /usr/local/lib/python3.6/dist-packages (from transformers==3) (0.8)\n",
            "Requirement already satisfied: tqdm>=4.27 in /usr/local/lib/python3.6/dist-packages (from transformers==3) (4.41.1)\n",
            "Requirement already satisfied: requests in /usr/local/lib/python3.6/dist-packages (from transformers==3) (2.23.0)\n",
            "Requirement already satisfied: filelock in /usr/local/lib/python3.6/dist-packages (from transformers==3) (3.0.12)\n",
            "Requirement already satisfied: packaging in /usr/local/lib/python3.6/dist-packages (from transformers==3) (20.9)\n",
            "Collecting sentencepiece\n",
            "\u001b[?25l  Downloading https://files.pythonhosted.org/packages/14/67/e42bd1181472c95c8cda79305df848264f2a7f62740995a46945d9797b67/sentencepiece-0.1.95-cp36-cp36m-manylinux2014_x86_64.whl (1.2MB)\n",
            "\u001b[K     |████████████████████████████████| 1.2MB 49.3MB/s \n",
            "\u001b[?25hRequirement already satisfied: regex!=2019.12.17 in /usr/local/lib/python3.6/dist-packages (from transformers==3) (2019.12.20)\n",
            "Requirement already satisfied: six in /usr/local/lib/python3.6/dist-packages (from sacremoses->transformers==3) (1.15.0)\n",
            "Requirement already satisfied: click in /usr/local/lib/python3.6/dist-packages (from sacremoses->transformers==3) (7.1.2)\n",
            "Requirement already satisfied: joblib in /usr/local/lib/python3.6/dist-packages (from sacremoses->transformers==3) (1.0.0)\n",
            "Requirement already satisfied: urllib3!=1.25.0,!=1.25.1,<1.26,>=1.21.1 in /usr/local/lib/python3.6/dist-packages (from requests->transformers==3) (1.24.3)\n",
            "Requirement already satisfied: chardet<4,>=3.0.2 in /usr/local/lib/python3.6/dist-packages (from requests->transformers==3) (3.0.4)\n",
            "Requirement already satisfied: certifi>=2017.4.17 in /usr/local/lib/python3.6/dist-packages (from requests->transformers==3) (2020.12.5)\n",
            "Requirement already satisfied: idna<3,>=2.5 in /usr/local/lib/python3.6/dist-packages (from requests->transformers==3) (2.10)\n",
            "Requirement already satisfied: pyparsing>=2.0.2 in /usr/local/lib/python3.6/dist-packages (from packaging->transformers==3) (2.4.7)\n",
            "Building wheels for collected packages: sacremoses\n",
            "  Building wheel for sacremoses (setup.py) ... \u001b[?25l\u001b[?25hdone\n",
            "  Created wheel for sacremoses: filename=sacremoses-0.0.43-cp36-none-any.whl size=893261 sha256=96929e72c340e1123f79bc5ac563ed728beb8d1601b07bde922530bfc42c6b6d\n",
            "  Stored in directory: /root/.cache/pip/wheels/29/3c/fd/7ce5c3f0666dab31a50123635e6fb5e19ceb42ce38d4e58f45\n",
            "Successfully built sacremoses\n",
            "Installing collected packages: sacremoses, tokenizers, sentencepiece, transformers\n",
            "Successfully installed sacremoses-0.0.43 sentencepiece-0.1.95 tokenizers-0.8.0rc4 transformers-3.0.0\n"
          ],
          "name": "stdout"
        },
        {
          "output_type": "execute_result",
          "data": {
            "text/plain": [
              "<torch._C.Generator at 0x7f011dfe04f8>"
            ]
          },
          "metadata": {
            "tags": []
          },
          "execution_count": 2
        }
      ]
    },
    {
      "cell_type": "markdown",
      "metadata": {
        "id": "JHD_07WS6SW3"
      },
      "source": [
        "##Set GPU\r\n",
        "Sebelum memulai pelatihan, diperlukan untuk set GPU untuk menjalankan Pytorch"
      ]
    },
    {
      "cell_type": "code",
      "metadata": {
        "colab": {
          "base_uri": "https://localhost:8080/"
        },
        "id": "5FyHj5iP-ycS",
        "outputId": "7f5c30bd-8a55-4838-8c51-8aa6d0cdc4ea"
      },
      "source": [
        "#mengecek apakah terdapat GPU pada komputer\r\n",
        "if torch.cuda.is_available():       \r\n",
        "    device = torch.device(\"cuda\")\r\n",
        "    print(f'There are {torch.cuda.device_count()} GPU(s) available.')\r\n",
        "    print('Device name:', torch.cuda.get_device_name(0))\r\n",
        "#jika tidak ada maka gunakan CPU untuk menjalankan program\r\n",
        "else:\r\n",
        "    print('No GPU available, using the CPU instead.')\r\n",
        "    device = torch.device(\"cpu\")"
      ],
      "execution_count": 3,
      "outputs": [
        {
          "output_type": "stream",
          "text": [
            "There are 1 GPU(s) available.\n",
            "Device name: Tesla T4\n"
          ],
          "name": "stdout"
        }
      ]
    },
    {
      "cell_type": "markdown",
      "metadata": {
        "id": "nuqvYIWjwK3D"
      },
      "source": [
        "## Load File txt"
      ]
    },
    {
      "cell_type": "code",
      "metadata": {
        "id": "1OfU8wEa6wQ3"
      },
      "source": [
        "DATA_DIR = 'drive/My Drive/SMT 2/NLP/Tugas 3/Chunking/{}.txt'\r\n",
        "\r\n",
        "def get_data(file):\r\n",
        "    with open(file, 'r', encoding='latin1') as fp:\r\n",
        "        content = fp.readlines()\r\n",
        "    data, sent = [], []\r\n",
        "    for line in content:\r\n",
        "        if not line.strip():\r\n",
        "            if sent: data.append(sent)\r\n",
        "            sent = []\r\n",
        "        else:\r\n",
        "            word, pos, tag = line.strip().split()\r\n",
        "            # tag = tag.split('-')[0]\r\n",
        "            sent.append((word, pos, tag))\r\n",
        "    return data"
      ],
      "execution_count": 4,
      "outputs": []
    },
    {
      "cell_type": "code",
      "metadata": {
        "id": "dRfKj7V42oFk"
      },
      "source": [
        "train_data = get_data(DATA_DIR.format('train'))\r\n",
        "test_data = get_data(DATA_DIR.format('test'))"
      ],
      "execution_count": 5,
      "outputs": []
    },
    {
      "cell_type": "markdown",
      "metadata": {
        "id": "iFjvMU-Awlny"
      },
      "source": [
        "Kemudian, mengambil sentence dan labelnya. Di kasus ini kita mengabaikan POSnya"
      ]
    },
    {
      "cell_type": "code",
      "metadata": {
        "id": "kzlEkeYNCg31"
      },
      "source": [
        "sentences = [[word[0] for word in sentence] for sentence in train_data]\r\n",
        "sentences_test = [[word[0] for word in sentence] for sentence in test_data]"
      ],
      "execution_count": 6,
      "outputs": []
    },
    {
      "cell_type": "code",
      "metadata": {
        "id": "rCN10TwZj89u"
      },
      "source": [
        "labels = [[s[2] for s in sentence] for sentence in train_data]\r\n",
        "labels_test = [[s[2] for s in sentence] for sentence in test_data]"
      ],
      "execution_count": 7,
      "outputs": []
    },
    {
      "cell_type": "markdown",
      "metadata": {
        "id": "p8nw8He5xHOn"
      },
      "source": [
        "Berikut ini adalah tag yang ada pada dataset tersebut"
      ]
    },
    {
      "cell_type": "code",
      "metadata": {
        "id": "VPo9IsHZKNes",
        "colab": {
          "base_uri": "https://localhost:8080/"
        },
        "outputId": "bbb8149e-84bf-4243-b069-8c0867cb8cc0"
      },
      "source": [
        "data1 = pd.read_csv(\"drive/My Drive/SMT 2/NLP/Tugas 3/Chunking/train.txt\", \r\n",
        "                  sep=' ', \r\n",
        "                  names=[\"Words\", \"POS\", \"Tag\"])\r\n",
        "data2 = pd.read_csv(\"drive/My Drive/SMT 2/NLP/Tugas 3/Chunking/test.txt\", \r\n",
        "                  sep=' ', \r\n",
        "                  names=[\"Words\", \"POS\", \"Tag\"])\r\n",
        "data = pd.concat([data1,data2])\r\n",
        "tag_values = list(set(data[\"Tag\"].values))\r\n",
        "tag_values.append(\"PAD\")\r\n",
        "tag2idx = {t: i for i, t in enumerate(tag_values)}\r\n",
        "tag2idx"
      ],
      "execution_count": 10,
      "outputs": [
        {
          "output_type": "execute_result",
          "data": {
            "text/plain": [
              "{'B-ADJP': 2,\n",
              " 'B-ADVP': 19,\n",
              " 'B-CONJP': 16,\n",
              " 'B-INTJ': 17,\n",
              " 'B-LST': 11,\n",
              " 'B-NP': 21,\n",
              " 'B-PP': 20,\n",
              " 'B-PRT': 1,\n",
              " 'B-SBAR': 0,\n",
              " 'B-UCP': 8,\n",
              " 'B-VP': 22,\n",
              " 'I-ADJP': 9,\n",
              " 'I-ADVP': 4,\n",
              " 'I-CONJP': 6,\n",
              " 'I-INTJ': 15,\n",
              " 'I-LST': 3,\n",
              " 'I-NP': 14,\n",
              " 'I-PP': 13,\n",
              " 'I-PRT': 7,\n",
              " 'I-SBAR': 18,\n",
              " 'I-UCP': 12,\n",
              " 'I-VP': 5,\n",
              " 'O': 10,\n",
              " 'PAD': 23}"
            ]
          },
          "metadata": {
            "tags": []
          },
          "execution_count": 10
        }
      ]
    },
    {
      "cell_type": "markdown",
      "metadata": {
        "id": "ugA89kmeLxZd"
      },
      "source": [
        "## Preprocessing\r\n",
        "Inisiasi Tokenizer, max len, dan batch size di awal. Pada kasus ini, model yang digunakan DistilBert"
      ]
    },
    {
      "cell_type": "code",
      "metadata": {
        "id": "nPsvBRhVLQVJ",
        "colab": {
          "base_uri": "https://localhost:8080/",
          "height": 68,
          "referenced_widgets": [
            "b77e2a16bcbe49e3aa9c17b8d3e10c76",
            "8a5c34afcd784b5994f7feb25dccfc19",
            "5798a1c305d146ca988d8bfc012907a3",
            "5eda2b1eaf674a6d9e0cdcbc35773f39",
            "d4216e45a3ea4b55aac00e7f4ac8f791",
            "5614713522824579a2789c5b4246aac0",
            "80234501637e47eb98ab507a3ebf3bea",
            "746bec49d1584138b248e0747de00a86"
          ]
        },
        "outputId": "bd410d74-9c62-4075-e26e-0cff0725ddc6"
      },
      "source": [
        "PRE_TRAINED_MODEL_NAME = 'distilbert-base-cased'\r\n",
        "MAX_LEN = 30\r\n",
        "bs = 32\r\n",
        "\r\n",
        "tokenizer = DistilBertTokenizer.from_pretrained(PRE_TRAINED_MODEL_NAME, do_lower_case=False)"
      ],
      "execution_count": 11,
      "outputs": [
        {
          "output_type": "display_data",
          "data": {
            "application/vnd.jupyter.widget-view+json": {
              "model_id": "b77e2a16bcbe49e3aa9c17b8d3e10c76",
              "version_minor": 0,
              "version_major": 2
            },
            "text/plain": [
              "HBox(children=(FloatProgress(value=0.0, description='Downloading', max=213450.0, style=ProgressStyle(descripti…"
            ]
          },
          "metadata": {
            "tags": []
          }
        },
        {
          "output_type": "stream",
          "text": [
            "\n"
          ],
          "name": "stdout"
        }
      ]
    },
    {
      "cell_type": "markdown",
      "metadata": {
        "id": "KJuoQZ3Yxe7O"
      },
      "source": [
        "Fungsi tersebut untuk melakukan tokenisasi per kata"
      ]
    },
    {
      "cell_type": "code",
      "metadata": {
        "id": "H4RV5Ih5lYen"
      },
      "source": [
        "def tokenize_and_preserve_labels(sentence, text_labels):\r\n",
        "    tokenized_sentence = []\r\n",
        "    labels = []\r\n",
        "\r\n",
        "    for word, label in zip(sentence, text_labels):\r\n",
        "\r\n",
        "        # Tokenize the word and count # of subwords the word is broken into\r\n",
        "        tokenized_word = tokenizer.tokenize(word)\r\n",
        "        n_subwords = len(tokenized_word)\r\n",
        "\r\n",
        "        # Add the tokenized word to the final tokenized word list\r\n",
        "        tokenized_sentence.extend(tokenized_word)\r\n",
        "\r\n",
        "        # Add the same label to the new list of labels `n_subwords` times\r\n",
        "        labels.extend([label] * n_subwords)\r\n",
        "\r\n",
        "    return tokenized_sentence, labels"
      ],
      "execution_count": 15,
      "outputs": []
    },
    {
      "cell_type": "code",
      "metadata": {
        "id": "V2N7L0_vldiO"
      },
      "source": [
        "tokenized_texts_and_labels = [\r\n",
        "    tokenize_and_preserve_labels(sent, labs)\r\n",
        "    for sent, labs in zip(sentences, labels)\r\n",
        "]\r\n"
      ],
      "execution_count": 16,
      "outputs": []
    },
    {
      "cell_type": "code",
      "metadata": {
        "id": "QKmCFaeQlgjg"
      },
      "source": [
        "tokenized_texts = [token_label_pair[0] for token_label_pair in tokenized_texts_and_labels]\r\n",
        "labels = [token_label_pair[1] for token_label_pair in tokenized_texts_and_labels]"
      ],
      "execution_count": 17,
      "outputs": []
    },
    {
      "cell_type": "markdown",
      "metadata": {
        "id": "D65YDbkfxlbD"
      },
      "source": [
        "Kemudian berikan padding pada kalimat tersebut"
      ]
    },
    {
      "cell_type": "code",
      "metadata": {
        "id": "hTmifaI9lksQ"
      },
      "source": [
        "from keras.preprocessing.sequence import pad_sequences\r\n",
        "input_ids = pad_sequences([tokenizer.convert_tokens_to_ids(txt) for txt in tokenized_texts],\r\n",
        "                          maxlen=MAX_LEN, dtype=\"long\", value=0.0,\r\n",
        "                          truncating=\"post\", padding=\"post\")\r\n"
      ],
      "execution_count": 18,
      "outputs": []
    },
    {
      "cell_type": "code",
      "metadata": {
        "id": "mMsha-FGl1pY"
      },
      "source": [
        "tags = pad_sequences([[tag2idx.get(l) for l in lab] for lab in labels],\r\n",
        "                     maxlen=MAX_LEN, value=tag2idx[\"PAD\"], padding=\"post\",\r\n",
        "                     dtype=\"long\", truncating=\"post\")\r\n"
      ],
      "execution_count": 19,
      "outputs": []
    },
    {
      "cell_type": "markdown",
      "metadata": {
        "id": "iC5sxKprxqfs"
      },
      "source": [
        "Lalu mendapatkan attention mask"
      ]
    },
    {
      "cell_type": "code",
      "metadata": {
        "id": "P8Y6DAtLlmD2"
      },
      "source": [
        "attention_masks = [[float(i != 0.0) for i in ii] for ii in input_ids]"
      ],
      "execution_count": 20,
      "outputs": []
    },
    {
      "cell_type": "markdown",
      "metadata": {
        "id": "Isn4fx9uxvvq"
      },
      "source": [
        "## Train Val split dan Data Loader\r\n",
        "Melakukan pembagian data dan load datanya"
      ]
    },
    {
      "cell_type": "code",
      "metadata": {
        "id": "n1HGJ8rHluKh"
      },
      "source": [
        "tr_inputs, val_inputs, tr_tags, val_tags = train_test_split(input_ids, tags,\r\n",
        "                                                            random_state=2018, test_size=0.1)\r\n",
        "tr_masks, val_masks, _, _ = train_test_split(attention_masks, input_ids,\r\n",
        "                                             random_state=2018, test_size=0.1)"
      ],
      "execution_count": 21,
      "outputs": []
    },
    {
      "cell_type": "code",
      "metadata": {
        "id": "puy7_rbClv5e"
      },
      "source": [
        "tr_inputs = torch.tensor(tr_inputs)\r\n",
        "val_inputs = torch.tensor(val_inputs)\r\n",
        "tr_tags = torch.tensor(tr_tags)\r\n",
        "val_tags = torch.tensor(val_tags)\r\n",
        "tr_masks = torch.tensor(tr_masks)\r\n",
        "val_masks = torch.tensor(val_masks)"
      ],
      "execution_count": 22,
      "outputs": []
    },
    {
      "cell_type": "code",
      "metadata": {
        "id": "tvYH3Bwjl7kv"
      },
      "source": [
        "train_data = TensorDataset(tr_inputs, tr_masks, tr_tags)\r\n",
        "train_dataloader = DataLoader(train_data, batch_size=bs)\r\n",
        "\r\n",
        "valid_data = TensorDataset(val_inputs, val_masks, val_tags)\r\n",
        "valid_dataloader = DataLoader(valid_data, batch_size=bs)"
      ],
      "execution_count": 23,
      "outputs": []
    },
    {
      "cell_type": "markdown",
      "metadata": {
        "id": "e5XtqT8rnPaf"
      },
      "source": [
        "## BERT Model\r\n",
        "Inisiasi bert model"
      ]
    },
    {
      "cell_type": "code",
      "metadata": {
        "colab": {
          "base_uri": "https://localhost:8080/",
          "height": 235,
          "referenced_widgets": [
            "e02bdedfeadf496394d7b54cb4f17ef5",
            "efef660bb99546cd90249d54ef3042d5",
            "9f6c7c511afe48fb94ddf77d894a0335",
            "9edc465b8a164cb5b545d200fe584b60",
            "0887508dd92f43f2809054c06ab9c488",
            "bdb5a75c19c1459e80a8367dc6d1ad8f",
            "699ea4d46fd447b28915a95d165b9be0",
            "156b3f6028594127985bda6868df5170",
            "7b4152d1bc164dcc8fa9dade18c7a755",
            "f301a3050e9f469a83ac14080f01e63e",
            "e2f952f8d860420c8191929ce1c73a97",
            "00201b84561b4913bc4008e2da663a7a",
            "aa5e0feb6c484342aac35010fbc7464a",
            "7c7ea26e8c794150b6ac1e48f0f5f955",
            "afe0a2732d75423a8cf4867f3656797f",
            "cdbc6b5ac1594fa789210523c91eee05"
          ]
        },
        "id": "wAfL80UYnQh7",
        "outputId": "d71cabd8-6343-4c36-a3ff-c35c4a854f4b"
      },
      "source": [
        "from transformers import DistilBertForTokenClassification\r\n",
        "\r\n",
        "model = DistilBertForTokenClassification.from_pretrained(\r\n",
        "    PRE_TRAINED_MODEL_NAME,\r\n",
        "    num_labels=len(tag2idx),\r\n",
        "    output_attentions = False,\r\n",
        "    output_hidden_states = False\r\n",
        ")"
      ],
      "execution_count": 24,
      "outputs": [
        {
          "output_type": "display_data",
          "data": {
            "application/vnd.jupyter.widget-view+json": {
              "model_id": "e02bdedfeadf496394d7b54cb4f17ef5",
              "version_minor": 0,
              "version_major": 2
            },
            "text/plain": [
              "HBox(children=(FloatProgress(value=0.0, description='Downloading', max=411.0, style=ProgressStyle(description_…"
            ]
          },
          "metadata": {
            "tags": []
          }
        },
        {
          "output_type": "stream",
          "text": [
            "\n"
          ],
          "name": "stdout"
        },
        {
          "output_type": "display_data",
          "data": {
            "application/vnd.jupyter.widget-view+json": {
              "model_id": "7b4152d1bc164dcc8fa9dade18c7a755",
              "version_minor": 0,
              "version_major": 2
            },
            "text/plain": [
              "HBox(children=(FloatProgress(value=0.0, description='Downloading', max=263273408.0, style=ProgressStyle(descri…"
            ]
          },
          "metadata": {
            "tags": []
          }
        },
        {
          "output_type": "stream",
          "text": [
            "\n"
          ],
          "name": "stdout"
        },
        {
          "output_type": "stream",
          "text": [
            "Some weights of the model checkpoint at distilbert-base-cased were not used when initializing DistilBertForTokenClassification: ['vocab_transform.weight', 'vocab_transform.bias', 'vocab_layer_norm.weight', 'vocab_layer_norm.bias', 'vocab_projector.weight', 'vocab_projector.bias']\n",
            "- This IS expected if you are initializing DistilBertForTokenClassification from the checkpoint of a model trained on another task or with another architecture (e.g. initializing a BertForSequenceClassification model from a BertForPretraining model).\n",
            "- This IS NOT expected if you are initializing DistilBertForTokenClassification from the checkpoint of a model that you expect to be exactly identical (initializing a BertForSequenceClassification model from a BertForSequenceClassification model).\n",
            "Some weights of DistilBertForTokenClassification were not initialized from the model checkpoint at distilbert-base-cased and are newly initialized: ['classifier.weight', 'classifier.bias']\n",
            "You should probably TRAIN this model on a down-stream task to be able to use it for predictions and inference.\n"
          ],
          "name": "stderr"
        }
      ]
    },
    {
      "cell_type": "markdown",
      "metadata": {
        "id": "7Au00dxQ6esZ"
      },
      "source": [
        "Insert Model ke GPU"
      ]
    },
    {
      "cell_type": "code",
      "metadata": {
        "colab": {
          "base_uri": "https://localhost:8080/"
        },
        "id": "UNa5vhW8nbNs",
        "outputId": "9890fc8c-e68b-4fb4-8789-4dae2a43811c"
      },
      "source": [
        "model.cuda()"
      ],
      "execution_count": 25,
      "outputs": [
        {
          "output_type": "execute_result",
          "data": {
            "text/plain": [
              "DistilBertForTokenClassification(\n",
              "  (distilbert): DistilBertModel(\n",
              "    (embeddings): Embeddings(\n",
              "      (word_embeddings): Embedding(28996, 768, padding_idx=0)\n",
              "      (position_embeddings): Embedding(512, 768)\n",
              "      (LayerNorm): LayerNorm((768,), eps=1e-12, elementwise_affine=True)\n",
              "      (dropout): Dropout(p=0.1, inplace=False)\n",
              "    )\n",
              "    (transformer): Transformer(\n",
              "      (layer): ModuleList(\n",
              "        (0): TransformerBlock(\n",
              "          (attention): MultiHeadSelfAttention(\n",
              "            (dropout): Dropout(p=0.1, inplace=False)\n",
              "            (q_lin): Linear(in_features=768, out_features=768, bias=True)\n",
              "            (k_lin): Linear(in_features=768, out_features=768, bias=True)\n",
              "            (v_lin): Linear(in_features=768, out_features=768, bias=True)\n",
              "            (out_lin): Linear(in_features=768, out_features=768, bias=True)\n",
              "          )\n",
              "          (sa_layer_norm): LayerNorm((768,), eps=1e-12, elementwise_affine=True)\n",
              "          (ffn): FFN(\n",
              "            (dropout): Dropout(p=0.1, inplace=False)\n",
              "            (lin1): Linear(in_features=768, out_features=3072, bias=True)\n",
              "            (lin2): Linear(in_features=3072, out_features=768, bias=True)\n",
              "          )\n",
              "          (output_layer_norm): LayerNorm((768,), eps=1e-12, elementwise_affine=True)\n",
              "        )\n",
              "        (1): TransformerBlock(\n",
              "          (attention): MultiHeadSelfAttention(\n",
              "            (dropout): Dropout(p=0.1, inplace=False)\n",
              "            (q_lin): Linear(in_features=768, out_features=768, bias=True)\n",
              "            (k_lin): Linear(in_features=768, out_features=768, bias=True)\n",
              "            (v_lin): Linear(in_features=768, out_features=768, bias=True)\n",
              "            (out_lin): Linear(in_features=768, out_features=768, bias=True)\n",
              "          )\n",
              "          (sa_layer_norm): LayerNorm((768,), eps=1e-12, elementwise_affine=True)\n",
              "          (ffn): FFN(\n",
              "            (dropout): Dropout(p=0.1, inplace=False)\n",
              "            (lin1): Linear(in_features=768, out_features=3072, bias=True)\n",
              "            (lin2): Linear(in_features=3072, out_features=768, bias=True)\n",
              "          )\n",
              "          (output_layer_norm): LayerNorm((768,), eps=1e-12, elementwise_affine=True)\n",
              "        )\n",
              "        (2): TransformerBlock(\n",
              "          (attention): MultiHeadSelfAttention(\n",
              "            (dropout): Dropout(p=0.1, inplace=False)\n",
              "            (q_lin): Linear(in_features=768, out_features=768, bias=True)\n",
              "            (k_lin): Linear(in_features=768, out_features=768, bias=True)\n",
              "            (v_lin): Linear(in_features=768, out_features=768, bias=True)\n",
              "            (out_lin): Linear(in_features=768, out_features=768, bias=True)\n",
              "          )\n",
              "          (sa_layer_norm): LayerNorm((768,), eps=1e-12, elementwise_affine=True)\n",
              "          (ffn): FFN(\n",
              "            (dropout): Dropout(p=0.1, inplace=False)\n",
              "            (lin1): Linear(in_features=768, out_features=3072, bias=True)\n",
              "            (lin2): Linear(in_features=3072, out_features=768, bias=True)\n",
              "          )\n",
              "          (output_layer_norm): LayerNorm((768,), eps=1e-12, elementwise_affine=True)\n",
              "        )\n",
              "        (3): TransformerBlock(\n",
              "          (attention): MultiHeadSelfAttention(\n",
              "            (dropout): Dropout(p=0.1, inplace=False)\n",
              "            (q_lin): Linear(in_features=768, out_features=768, bias=True)\n",
              "            (k_lin): Linear(in_features=768, out_features=768, bias=True)\n",
              "            (v_lin): Linear(in_features=768, out_features=768, bias=True)\n",
              "            (out_lin): Linear(in_features=768, out_features=768, bias=True)\n",
              "          )\n",
              "          (sa_layer_norm): LayerNorm((768,), eps=1e-12, elementwise_affine=True)\n",
              "          (ffn): FFN(\n",
              "            (dropout): Dropout(p=0.1, inplace=False)\n",
              "            (lin1): Linear(in_features=768, out_features=3072, bias=True)\n",
              "            (lin2): Linear(in_features=3072, out_features=768, bias=True)\n",
              "          )\n",
              "          (output_layer_norm): LayerNorm((768,), eps=1e-12, elementwise_affine=True)\n",
              "        )\n",
              "        (4): TransformerBlock(\n",
              "          (attention): MultiHeadSelfAttention(\n",
              "            (dropout): Dropout(p=0.1, inplace=False)\n",
              "            (q_lin): Linear(in_features=768, out_features=768, bias=True)\n",
              "            (k_lin): Linear(in_features=768, out_features=768, bias=True)\n",
              "            (v_lin): Linear(in_features=768, out_features=768, bias=True)\n",
              "            (out_lin): Linear(in_features=768, out_features=768, bias=True)\n",
              "          )\n",
              "          (sa_layer_norm): LayerNorm((768,), eps=1e-12, elementwise_affine=True)\n",
              "          (ffn): FFN(\n",
              "            (dropout): Dropout(p=0.1, inplace=False)\n",
              "            (lin1): Linear(in_features=768, out_features=3072, bias=True)\n",
              "            (lin2): Linear(in_features=3072, out_features=768, bias=True)\n",
              "          )\n",
              "          (output_layer_norm): LayerNorm((768,), eps=1e-12, elementwise_affine=True)\n",
              "        )\n",
              "        (5): TransformerBlock(\n",
              "          (attention): MultiHeadSelfAttention(\n",
              "            (dropout): Dropout(p=0.1, inplace=False)\n",
              "            (q_lin): Linear(in_features=768, out_features=768, bias=True)\n",
              "            (k_lin): Linear(in_features=768, out_features=768, bias=True)\n",
              "            (v_lin): Linear(in_features=768, out_features=768, bias=True)\n",
              "            (out_lin): Linear(in_features=768, out_features=768, bias=True)\n",
              "          )\n",
              "          (sa_layer_norm): LayerNorm((768,), eps=1e-12, elementwise_affine=True)\n",
              "          (ffn): FFN(\n",
              "            (dropout): Dropout(p=0.1, inplace=False)\n",
              "            (lin1): Linear(in_features=768, out_features=3072, bias=True)\n",
              "            (lin2): Linear(in_features=3072, out_features=768, bias=True)\n",
              "          )\n",
              "          (output_layer_norm): LayerNorm((768,), eps=1e-12, elementwise_affine=True)\n",
              "        )\n",
              "      )\n",
              "    )\n",
              "  )\n",
              "  (dropout): Dropout(p=0.1, inplace=False)\n",
              "  (classifier): Linear(in_features=768, out_features=24, bias=True)\n",
              ")"
            ]
          },
          "metadata": {
            "tags": []
          },
          "execution_count": 25
        }
      ]
    },
    {
      "cell_type": "markdown",
      "metadata": {
        "id": "Z1FYSUcA6hRh"
      },
      "source": [
        "Set optimizer, epoch, dan scheduler"
      ]
    },
    {
      "cell_type": "code",
      "metadata": {
        "id": "aPqxJ-C8oDy2"
      },
      "source": [
        "epochs = 10\r\n",
        "\r\n",
        "#set optimizer\r\n",
        "optimizer = AdamW(model.parameters(), lr=2e-5, correct_bias=False)\r\n",
        "total_steps = len(train_dataloader) * epochs\r\n",
        "\r\n",
        "#set schedule\r\n",
        "scheduler = get_linear_schedule_with_warmup(\r\n",
        "  optimizer,\r\n",
        "  num_warmup_steps=0,\r\n",
        "  num_training_steps=total_steps\r\n",
        ")"
      ],
      "execution_count": 33,
      "outputs": []
    },
    {
      "cell_type": "markdown",
      "metadata": {
        "id": "a3JhFu9tzHGA"
      },
      "source": [
        "## Model Function\r\n",
        "Berikut ini fungsi training dan fungsi evaluasi"
      ]
    },
    {
      "cell_type": "markdown",
      "metadata": {
        "id": "VeZVAF9x6uXO"
      },
      "source": [
        "### Fungsi train_epoch"
      ]
    },
    {
      "cell_type": "code",
      "metadata": {
        "id": "sBmfxaBU_82b"
      },
      "source": [
        "def train_epoch(\r\n",
        "  model, \r\n",
        "  data_loader, \r\n",
        "  loss_fn, \r\n",
        "  optimizer, \r\n",
        "  device, \r\n",
        "  scheduler, \r\n",
        "  n_examples\r\n",
        "):\r\n",
        "  # Put the model into training mode.\r\n",
        "  model.train()\r\n",
        "  # Reset the total loss for this epoch.\r\n",
        "  total_loss = 0\r\n",
        "\r\n",
        "  # Reset the validation loss for this epoch.\r\n",
        "  nb_eval_steps, nb_eval_examples = 0, 0\r\n",
        "  predictions , true_labels = [], []\r\n",
        "\r\n",
        "  # Training loop\r\n",
        "  for step, batch in enumerate(data_loader):\r\n",
        "      # add batch to gpu\r\n",
        "      batch = tuple(t.to(device) for t in batch)\r\n",
        "      b_input_ids, b_input_mask, b_labels = batch\r\n",
        "      # Always clear any previously calculated gradients before performing a backward pass.\r\n",
        "      model.zero_grad()\r\n",
        "      # forward pass\r\n",
        "      # This will return the loss (rather than the model output)\r\n",
        "      # because we have provided the `labels`.\r\n",
        "      outputs = model(b_input_ids, attention_mask=b_input_mask, labels=b_labels)\r\n",
        "\r\n",
        "      # Move logits and labels to CPU\r\n",
        "      logits = outputs[1].detach().cpu().numpy()\r\n",
        "      label_ids = b_labels.to('cpu').numpy()\r\n",
        "      predictions.extend([list(p) for p in np.argmax(logits, axis=2)])\r\n",
        "      true_labels.extend(label_ids)\r\n",
        "\r\n",
        "      # get the loss\r\n",
        "      loss = outputs[0]\r\n",
        "      # Perform a backward pass to calculate the gradients.\r\n",
        "      loss.backward()\r\n",
        "      # track train loss\r\n",
        "      total_loss += loss.item()\r\n",
        "      # Clip the norm of the gradient\r\n",
        "      # This is to help prevent the \"exploding gradients\" problem.\r\n",
        "      torch.nn.utils.clip_grad_norm_(parameters=model.parameters(), max_norm=1)\r\n",
        "      # update parameters\r\n",
        "      optimizer.step()\r\n",
        "      # Update the learning rate.\r\n",
        "      scheduler.step()\r\n",
        "\r\n",
        "    # Calculate the average loss over the training data.\r\n",
        "  avg_train_loss = total_loss / len(data_loader)\r\n",
        "  pred_tags = [tag_values[p_i] for p, l in zip(predictions, true_labels)\r\n",
        "                                 for p_i, l_i in zip(p, l) if tag_values[l_i] != \"PAD\"]\r\n",
        "  valid_tags = [tag_values[l_i] for l in true_labels\r\n",
        "                                  for l_i in l if tag_values[l_i] != \"PAD\"]\r\n",
        "  return accuracy_score(pred_tags, valid_tags),avg_train_loss"
      ],
      "execution_count": 27,
      "outputs": []
    },
    {
      "cell_type": "markdown",
      "metadata": {
        "id": "ocZ-mXH06yrM"
      },
      "source": [
        "### Fungsi eval_model"
      ]
    },
    {
      "cell_type": "code",
      "metadata": {
        "id": "q2--J2KHBG5n"
      },
      "source": [
        "def eval_model(model, data_loader, loss_fn, device, n_examples):\r\n",
        "\r\n",
        "  # Put the model into evaluation mode\r\n",
        "  model.eval()\r\n",
        "  # Reset the validation loss for this epoch.\r\n",
        "  eval_loss, eval_accuracy = 0, 0\r\n",
        "  nb_eval_steps, nb_eval_examples = 0, 0\r\n",
        "  predictions , true_labels = [], []\r\n",
        "  \r\n",
        "  for batch in data_loader:\r\n",
        "      batch = tuple(t.to(device) for t in batch)\r\n",
        "      b_input_ids, b_input_mask, b_labels = batch\r\n",
        "\r\n",
        "      # Telling the model not to compute or store gradients,\r\n",
        "      # saving memory and speeding up validation\r\n",
        "      with torch.no_grad():\r\n",
        "          # Forward pass, calculate logit predictions.\r\n",
        "          # This will return the logits rather than the loss because we have not provided labels.\r\n",
        "          outputs = model(b_input_ids, attention_mask=b_input_mask, labels=b_labels)\r\n",
        "\r\n",
        "      # Move logits and labels to CPU\r\n",
        "      logits = outputs[1].detach().cpu().numpy()\r\n",
        "      label_ids = b_labels.to('cpu').numpy()\r\n",
        "\r\n",
        "      # Calculate the accuracy for this batch of test sentences.\r\n",
        "      eval_loss += outputs[0].mean().item()\r\n",
        "      predictions.extend([list(p) for p in np.argmax(logits, axis=2)])\r\n",
        "      true_labels.extend(label_ids)\r\n",
        "\r\n",
        "  eval_loss = eval_loss / len(data_loader)\r\n",
        "  pred_tags = [tag_values[p_i] for p, l in zip(predictions, true_labels)\r\n",
        "                                 for p_i, l_i in zip(p, l) if tag_values[l_i] != \"PAD\"]\r\n",
        "  valid_tags = [tag_values[l_i] for l in true_labels\r\n",
        "                                  for l_i in l if tag_values[l_i] != \"PAD\"]\r\n",
        "  return accuracy_score(pred_tags, valid_tags),eval_loss"
      ],
      "execution_count": 28,
      "outputs": []
    },
    {
      "cell_type": "markdown",
      "metadata": {
        "id": "uKpImqTzAJng"
      },
      "source": [
        "## Proses"
      ]
    },
    {
      "cell_type": "code",
      "metadata": {
        "colab": {
          "base_uri": "https://localhost:8080/"
        },
        "id": "tA0knxTk9ULx",
        "outputId": "d210ded8-e6d4-4e13-fd8e-6c63ea52d2f9"
      },
      "source": [
        "from sklearn.metrics import accuracy_score\r\n",
        "## Store the average loss after each epoch so we can plot them.\r\n",
        "loss_values, validation_loss_values = [], []\r\n",
        "\r\n",
        "for epoch in range(epochs):\r\n",
        "    # ========================================\r\n",
        "    #               Training\r\n",
        "    # ========================================\r\n",
        "    # Perform one full pass over the training set.\r\n",
        "\r\n",
        "    print(f'Epoch {epoch + 1}/{epochs}')\r\n",
        "    print('-' * 10)\r\n",
        "\r\n",
        "    #memanggil fungsi train epoch\r\n",
        "    train_acc, train_loss = train_epoch(\r\n",
        "      model,\r\n",
        "      train_dataloader,    \r\n",
        "      loss_fn, \r\n",
        "      optimizer, \r\n",
        "      device, \r\n",
        "      scheduler, \r\n",
        "      len(train_data)\r\n",
        "    )\r\n",
        "\r\n",
        "    #mencetak train loss dan accuracy\r\n",
        "    print(f'Train loss {train_loss} accuracy {train_acc}')\r\n",
        "\r\n",
        "\r\n",
        "    # ========================================\r\n",
        "    #               Validation\r\n",
        "    # ========================================\r\n",
        "    # After the completion of each training epoch, measure our performance on\r\n",
        "    # our validation set.\r\n",
        "\r\n",
        "    val_acc, val_loss = eval_model(\r\n",
        "      model,\r\n",
        "      valid_dataloader,    \r\n",
        "      loss_fn, \r\n",
        "      device, \r\n",
        "      len(valid_data)\r\n",
        "    )\r\n",
        "    \r\n",
        "    #mencetak val loss dan accuracy\r\n",
        "    print(f'Val   loss {val_loss} accuracy {val_acc}')\r\n",
        "    print()\r\n"
      ],
      "execution_count": 29,
      "outputs": [
        {
          "output_type": "stream",
          "text": [
            "Epoch 1/10\n",
            "----------\n",
            "Train loss 0.3131703030436285 accuracy 0.9067194255147651\n",
            "Val   loss 0.11487518091286932 accuracy 0.9690081680280047\n",
            "\n",
            "Epoch 2/10\n",
            "----------\n",
            "Train loss 0.08379571719302072 accuracy 0.9769651100712873\n",
            "Val   loss 0.10872599801846913 accuracy 0.9711085180863477\n",
            "\n",
            "Epoch 3/10\n",
            "----------\n",
            "Train loss 0.05066881858788076 accuracy 0.9862083765139382\n",
            "Val   loss 0.11123650560953788 accuracy 0.9713885647607935\n",
            "\n",
            "Epoch 4/10\n",
            "----------\n",
            "Train loss 0.033988714092485016 accuracy 0.9909608600529682\n",
            "Val   loss 0.11501048279127904 accuracy 0.9729288214702451\n",
            "\n",
            "Epoch 5/10\n",
            "----------\n",
            "Train loss 0.024016724021676632 accuracy 0.9935045902291451\n",
            "Val   loss 0.11690898652055434 accuracy 0.9732088681446908\n",
            "\n",
            "Epoch 6/10\n",
            "----------\n",
            "Train loss 0.018030951543348946 accuracy 0.9951585382449308\n",
            "Val   loss 0.12185985994126115 accuracy 0.9732555425904318\n",
            "\n",
            "Epoch 7/10\n",
            "----------\n",
            "Train loss 0.014567284473395418 accuracy 0.9961268305959446\n",
            "Val   loss 0.12559700783874309 accuracy 0.9732555425904318\n",
            "\n",
            "Epoch 8/10\n",
            "----------\n",
            "Train loss 0.011790531108133672 accuracy 0.9970951229469586\n",
            "Val   loss 0.12522511343870843 accuracy 0.974049008168028\n",
            "\n",
            "Epoch 9/10\n",
            "----------\n",
            "Train loss 0.01026365623785375 accuracy 0.9974562698238232\n",
            "Val   loss 0.12689779046922922 accuracy 0.9740023337222871\n",
            "\n",
            "Epoch 10/10\n",
            "----------\n",
            "Train loss 0.009531745514813958 accuracy 0.9976080561923605\n",
            "Val   loss 0.1271004325577191 accuracy 0.973955659276546\n",
            "\n"
          ],
          "name": "stdout"
        }
      ]
    },
    {
      "cell_type": "markdown",
      "metadata": {
        "id": "C8dMtTLP39kl"
      },
      "source": [
        "## Pengujian dengan data test"
      ]
    },
    {
      "cell_type": "code",
      "metadata": {
        "id": "3aZMsUh_4Rtp"
      },
      "source": [
        "tokenized_texts_and_labels_test = [\r\n",
        "    tokenize_and_preserve_labels(sent, labs)\r\n",
        "    for sent, labs in zip(sentences_test, labels_test)\r\n",
        "]\r\n",
        "\r\n",
        "tokenized_texts_test = [token_label_pair[0] for token_label_pair in tokenized_texts_and_labels_test]\r\n",
        "labels_test = [token_label_pair[1] for token_label_pair in tokenized_texts_and_labels_test]\r\n",
        "\r\n",
        "input_ids_test = pad_sequences([tokenizer.convert_tokens_to_ids(txt) for txt in tokenized_texts_test],\r\n",
        "                          maxlen=MAX_LEN, dtype=\"long\", value=0.0,\r\n",
        "                          truncating=\"post\", padding=\"post\")\r\n",
        "\r\n",
        "tags_test = pad_sequences([[tag2idx.get(l) for l in lab] for lab in labels_test],\r\n",
        "                     maxlen=MAX_LEN, value=tag2idx[\"PAD\"], padding=\"post\",\r\n",
        "                     dtype=\"long\", truncating=\"post\")\r\n",
        "\r\n",
        "attention_masks_test = [[float(i != 0.0) for i in ii] for ii in input_ids_test]\r\n",
        "\r\n",
        "ts_inputs = torch.tensor(input_ids_test)\r\n",
        "ts_tags = torch.tensor(tags_test)\r\n",
        "ts_masks = torch.tensor(attention_masks_test)\r\n",
        "\r\n",
        "test_data = TensorDataset(ts_inputs, ts_masks, ts_tags)\r\n",
        "test_dataloader = DataLoader(test_data, batch_size=bs)"
      ],
      "execution_count": 30,
      "outputs": []
    },
    {
      "cell_type": "code",
      "metadata": {
        "id": "b3cD_a5053fW"
      },
      "source": [
        "test_acc, test_loss = eval_model(\r\n",
        "      model,\r\n",
        "      test_dataloader,    \r\n",
        "      loss_fn, \r\n",
        "      device, \r\n",
        "      len(test_data)\r\n",
        ")"
      ],
      "execution_count": 31,
      "outputs": []
    },
    {
      "cell_type": "code",
      "metadata": {
        "colab": {
          "base_uri": "https://localhost:8080/"
        },
        "id": "2MHqQtPO6E_t",
        "outputId": "4765b098-96e3-42a3-971e-37d899913d2c"
      },
      "source": [
        "test_acc"
      ],
      "execution_count": 32,
      "outputs": [
        {
          "output_type": "execute_result",
          "data": {
            "text/plain": [
              "0.9718374118622978"
            ]
          },
          "metadata": {
            "tags": []
          },
          "execution_count": 32
        }
      ]
    }
  ]
}